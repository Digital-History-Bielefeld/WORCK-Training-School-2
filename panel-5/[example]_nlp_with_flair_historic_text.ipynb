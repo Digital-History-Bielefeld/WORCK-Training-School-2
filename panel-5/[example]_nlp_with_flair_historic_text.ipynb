{
  "cells": [
    {
      "cell_type": "markdown",
      "metadata": {
        "id": "XTwRiPWWRtVr"
      },
      "source": [
        "# NLP with Flair\n",
        "\n",
        "This notebook is a step-by-step walkthrough of NLP – named entity recognition and part-of-speech tagging specifically.\n",
        "\n",
        "After familiarizing yourself with how it all works and plays together, you should be able to re-use the notebook and adapt it to your needs.\n",
        "\n",
        "The term 'notebook' here refers to this .ipynb-file. It is a file format, which allows for text- and code cells respectively. Code cells can be run directly form the notebook.\n",
        "\n",
        "As we will be running the notebook in Google Colab, no installations are required. Google Colab provides you with a virtual machine which has python and an array of useful packages pre-installed.\n",
        "Keep in mind that Google Colab is a cloud service after all, so if your research involves working with sensitive data it might not be compliant with your data privacy regulations and restrictions."
      ]
    },
    {
      "cell_type": "markdown",
      "metadata": {
        "id": "wdF4PeXYOpHk"
      },
      "source": [
        "## NER with Flair\n",
        "\n",
        "The goal of named entity extraction (NER) is to identify persons, locations, organisations, and sometimes other concepts too.\n",
        "\n",
        "This notebook uses the NER framework [flair](https://github.com/flairNLP/flair) as it is relatively easy to use and Ismail Prada-Ziegler from DH Unibe has trained an NER-Model for the bernese towerbooks, which will serve as an example here. Spacy is another widely used NER framework, which is also intuitive and powerful."
      ]
    },
    {
      "cell_type": "code",
      "execution_count": null,
      "metadata": {
        "colab": {
          "base_uri": "https://localhost:8080/"
        },
        "id": "eChj0EIGLpW6",
        "outputId": "9c9952a4-4893-4cae-af20-9b765e404803"
      },
      "outputs": [],
      "source": [
        "%pip install tabulate flair"
      ]
    },
    {
      "cell_type": "code",
      "execution_count": null,
      "metadata": {
        "id": "pJgAYJ5gPCLi"
      },
      "outputs": [],
      "source": [
        "# First, we need to load the utilities we need from the flair module.\n",
        "from flair.splitter import SegtokSentenceSplitter\n",
        "from flair.models import SequenceTagger"
      ]
    },
    {
      "cell_type": "markdown",
      "metadata": {
        "id": "V3qULFJYZpas"
      },
      "source": [
        "In order to be able to access the example text we need to upload the txt to\n",
        "the session storage. You can do this in the files-tab in the sidebar."
      ]
    },
    {
      "cell_type": "code",
      "execution_count": null,
      "metadata": {
        "id": "jqSHEmwrdMrt"
      },
      "outputs": [],
      "source": [
        "# Once done, you can read the file into a python object like so.\n",
        "with open('text_bernese_towerbooks.txt') as f:\n",
        "  text = f.read()"
      ]
    },
    {
      "cell_type": "code",
      "execution_count": null,
      "metadata": {
        "colab": {
          "base_uri": "https://localhost:8080/",
          "height": 201
        },
        "id": "rRfrO-nGigl_",
        "outputId": "fd75ad2e-04d0-423f-af9e-90151ddd3741"
      },
      "outputs": [],
      "source": [
        "text"
      ]
    },
    {
      "cell_type": "markdown",
      "metadata": {
        "id": "BRN_gjz3Zpat"
      },
      "source": [
        "We also need to load a tagger (model). We can directly use links to [huggingface](https://huggingface.co/) here.\n",
        "\n",
        "Models tend to be large, so this step can take some time if executed for the first time. It can also fill up the RAM of your virtual machine rather quickly, so if you use large models, try to have only one loaded at the same time and restart the runtime if you intend to switch the model.\n",
        "\n",
        "In this example we use the aforementioned model trained on the bernese towerbooks."
      ]
    },
    {
      "cell_type": "code",
      "execution_count": null,
      "metadata": {
        "colab": {
          "base_uri": "https://localhost:8080/",
          "height": 87,
          "referenced_widgets": [
            "87051eba433244c485fbd580567c864e",
            "dbbf0e4436054b988da33fc691d1fce6",
            "7ce7a2e4574442c2a5d66cc96c7f86c6",
            "f78f382406f442f79d3d51c2787315a8",
            "70431f80ef3547d38b72f59aaf1ad910",
            "29037ac3f0c2410fa95921f897dbb0fd",
            "aee801f6e4ae458084b9399f3eab6e97",
            "995388b681ce4cb2a84b8e703b4393d0",
            "68e13022a60f47c0ac5c675901b8a25a",
            "2d922421f5ef4c8faccb559c2237064a",
            "6bdaeefa5cb54e9d8e197e1691f4a95f"
          ]
        },
        "id": "RceQE0YOXerT",
        "outputId": "ad3a31c1-072c-4aaf-d370-f8355b154bc2"
      },
      "outputs": [],
      "source": [
        "# find other models here: https://huggingface.co/flair\n",
        "tagger = SequenceTagger.load('dh-unibe/turmbuecher-ner-v1')"
      ]
    },
    {
      "cell_type": "markdown",
      "metadata": {
        "id": "cSkthppZZpau"
      },
      "source": [
        "Before we feed the text to the tagger we need to turn it into a Sentence\n",
        "object, which also tokenizes it.\n",
        "\n",
        "It can make sense to split long documents into paragraphs before prediction\n",
        "as most systems perform worse on long texts, which is why we use the built\n",
        "in splitter."
      ]
    },
    {
      "cell_type": "code",
      "execution_count": null,
      "metadata": {
        "colab": {
          "base_uri": "https://localhost:8080/"
        },
        "id": "VGbPYXOuYa6s",
        "outputId": "c3700fce-0538-4409-9a02-cbe6e35c363d"
      },
      "outputs": [],
      "source": [
        "splitter = SegtokSentenceSplitter()\n",
        "sentences = splitter.split(text)\n",
        "\n",
        "# Here we actually identify the named entities. This can take a while.\n",
        "tagger.predict(sentences)\n",
        "\n",
        "# print the entities\n",
        "for sentence in sentences:\n",
        "  for entity in sentence.get_spans('ner'):\n",
        "    print(entity)"
      ]
    },
    {
      "cell_type": "code",
      "execution_count": null,
      "metadata": {
        "colab": {
          "base_uri": "https://localhost:8080/"
        },
        "id": "NdZtyutF_qAo",
        "outputId": "ed8df4df-adc9-4b69-bff3-fdbd05c0200c"
      },
      "outputs": [],
      "source": [
        "sentences"
      ]
    },
    {
      "cell_type": "code",
      "execution_count": null,
      "metadata": {
        "id": "0Hpn1iJ9wfAa"
      },
      "outputs": [],
      "source": [
        "entities = []\n",
        "\n",
        "with open('result.txt', 'w', encoding='utf-8') as f:\n",
        "  for sentence in sentences:\n",
        "    for entity in sentence.get_spans('ner'):\n",
        "      res = entity.text + ' ' + entity.tag + ' ' + str(entity.score) + '\\n'\n",
        "      f.write(res)\n",
        "      entities.append(res)"
      ]
    },
    {
      "cell_type": "code",
      "execution_count": null,
      "metadata": {
        "colab": {
          "base_uri": "https://localhost:8080/"
        },
        "id": "KEDC73Rkw52O",
        "outputId": "f44679a1-ea73-4bd8-b2ee-aa5d7032b292"
      },
      "outputs": [],
      "source": [
        "entities"
      ]
    },
    {
      "cell_type": "markdown",
      "metadata": {
        "id": "HsRO6glV0mLH"
      },
      "source": [
        "As expected, this model works very well for the text we fed it. This is mainly because it is fine-tuned on the corpus the text is extracted from, so we can expect it to perform well on similar text.\n",
        "\n",
        "For your own project in the context of this workshop it is recommended to look for suitable models on [huggingface](https://huggingface.co/) instead of using the model we used above."
      ]
    },
    {
      "cell_type": "markdown",
      "metadata": {
        "id": "zgZCa-gSQVEO"
      },
      "source": [
        "## POS-tagging with Flair\n",
        "\n",
        "Part-of-speech tagging works the same in Flair. The only difference is that we likely have to use a different model and that we have to load a Classifier instead of a SequenceTagger. We will use the same text as an example again."
      ]
    },
    {
      "cell_type": "code",
      "execution_count": null,
      "metadata": {
        "colab": {
          "base_uri": "https://localhost:8080/"
        },
        "collapsed": true,
        "id": "kxeZfVeISrMS",
        "outputId": "e62aad71-7ff7-4996-b779-e70518576568"
      },
      "outputs": [],
      "source": [
        "# Install and load requirements and text in case you start here\n",
        "# (uncomment if necessary)\n",
        "# !pip install flair\n",
        "\n",
        "from flair.nn import Classifier\n",
        "from flair.splitter import SegtokSentenceSplitter\n",
        "\n",
        "# You can replace it with your uploaded txt-file\n",
        "with open('text_bernese_towerbooks.txt') as f:\n",
        "  text = f.read()\n",
        "\n",
        "# Now we are loading a different model. In this case a build-in model for german\n",
        "# pos-tagging, just to see how it works for pre-modern texts.\n",
        "tagger = Classifier.load('de-pos')\n",
        "\n",
        "# Finally we split the text into paragraphs again and predict and retrieve the\n",
        "# annotations.\n",
        "splitter = SegtokSentenceSplitter()\n",
        "sentences = splitter.split(text)\n",
        "\n",
        "# Here we actually identify the parts-of-speech. This can take a while.\n",
        "tagger.predict(sentences)"
      ]
    },
    {
      "cell_type": "code",
      "execution_count": null,
      "metadata": {
        "colab": {
          "base_uri": "https://localhost:8080/",
          "height": 128
        },
        "id": "cIpoB4pRgI6q",
        "outputId": "7a22b8c6-cb14-4ca9-ae3f-1200f194de9f"
      },
      "outputs": [],
      "source": [
        "sentences[0].text"
      ]
    },
    {
      "cell_type": "code",
      "execution_count": null,
      "metadata": {
        "colab": {
          "base_uri": "https://localhost:8080/"
        },
        "id": "r6290MbCcx7Y",
        "outputId": "a3d78f21-45a5-4c39-9083-e3e4a10e497d"
      },
      "outputs": [],
      "source": [
        "# print the parts-of-speech\n",
        "# find tag meanings here: https://huggingface.co/flair/upos-multi\n",
        "from tabulate import tabulate\n",
        "\n",
        "pos_data = [\n",
        "    [token.text, token.tag, token.score] for token in sentences[0]\n",
        "]\n",
        "\n",
        "headers = ['Text', 'POS-Tag', 'Score']\n",
        "table = tabulate(pos_data, headers, tablefmt='fancy_grid')\n",
        "print(table)"
      ]
    }
  ],
  "metadata": {
    "colab": {
      "provenance": []
    },
    "kernelspec": {
      "display_name": "Python 3 (ipykernel)",
      "language": "python",
      "name": "python3"
    },
    "language_info": {
      "codemirror_mode": {
        "name": "ipython",
        "version": 3
      },
      "file_extension": ".py",
      "mimetype": "text/x-python",
      "name": "python",
      "nbconvert_exporter": "python",
      "pygments_lexer": "ipython3",
      "version": "3.10.13"
    },
    "widgets": {
      "application/vnd.jupyter.widget-state+json": {
        "29037ac3f0c2410fa95921f897dbb0fd": {
          "model_module": "@jupyter-widgets/base",
          "model_module_version": "1.2.0",
          "model_name": "LayoutModel",
          "state": {
            "_model_module": "@jupyter-widgets/base",
            "_model_module_version": "1.2.0",
            "_model_name": "LayoutModel",
            "_view_count": null,
            "_view_module": "@jupyter-widgets/base",
            "_view_module_version": "1.2.0",
            "_view_name": "LayoutView",
            "align_content": null,
            "align_items": null,
            "align_self": null,
            "border": null,
            "bottom": null,
            "display": null,
            "flex": null,
            "flex_flow": null,
            "grid_area": null,
            "grid_auto_columns": null,
            "grid_auto_flow": null,
            "grid_auto_rows": null,
            "grid_column": null,
            "grid_gap": null,
            "grid_row": null,
            "grid_template_areas": null,
            "grid_template_columns": null,
            "grid_template_rows": null,
            "height": null,
            "justify_content": null,
            "justify_items": null,
            "left": null,
            "margin": null,
            "max_height": null,
            "max_width": null,
            "min_height": null,
            "min_width": null,
            "object_fit": null,
            "object_position": null,
            "order": null,
            "overflow": null,
            "overflow_x": null,
            "overflow_y": null,
            "padding": null,
            "right": null,
            "top": null,
            "visibility": null,
            "width": null
          }
        },
        "2d922421f5ef4c8faccb559c2237064a": {
          "model_module": "@jupyter-widgets/base",
          "model_module_version": "1.2.0",
          "model_name": "LayoutModel",
          "state": {
            "_model_module": "@jupyter-widgets/base",
            "_model_module_version": "1.2.0",
            "_model_name": "LayoutModel",
            "_view_count": null,
            "_view_module": "@jupyter-widgets/base",
            "_view_module_version": "1.2.0",
            "_view_name": "LayoutView",
            "align_content": null,
            "align_items": null,
            "align_self": null,
            "border": null,
            "bottom": null,
            "display": null,
            "flex": null,
            "flex_flow": null,
            "grid_area": null,
            "grid_auto_columns": null,
            "grid_auto_flow": null,
            "grid_auto_rows": null,
            "grid_column": null,
            "grid_gap": null,
            "grid_row": null,
            "grid_template_areas": null,
            "grid_template_columns": null,
            "grid_template_rows": null,
            "height": null,
            "justify_content": null,
            "justify_items": null,
            "left": null,
            "margin": null,
            "max_height": null,
            "max_width": null,
            "min_height": null,
            "min_width": null,
            "object_fit": null,
            "object_position": null,
            "order": null,
            "overflow": null,
            "overflow_x": null,
            "overflow_y": null,
            "padding": null,
            "right": null,
            "top": null,
            "visibility": null,
            "width": null
          }
        },
        "68e13022a60f47c0ac5c675901b8a25a": {
          "model_module": "@jupyter-widgets/controls",
          "model_module_version": "1.5.0",
          "model_name": "ProgressStyleModel",
          "state": {
            "_model_module": "@jupyter-widgets/controls",
            "_model_module_version": "1.5.0",
            "_model_name": "ProgressStyleModel",
            "_view_count": null,
            "_view_module": "@jupyter-widgets/base",
            "_view_module_version": "1.2.0",
            "_view_name": "StyleView",
            "bar_color": null,
            "description_width": ""
          }
        },
        "6bdaeefa5cb54e9d8e197e1691f4a95f": {
          "model_module": "@jupyter-widgets/controls",
          "model_module_version": "1.5.0",
          "model_name": "DescriptionStyleModel",
          "state": {
            "_model_module": "@jupyter-widgets/controls",
            "_model_module_version": "1.5.0",
            "_model_name": "DescriptionStyleModel",
            "_view_count": null,
            "_view_module": "@jupyter-widgets/base",
            "_view_module_version": "1.2.0",
            "_view_name": "StyleView",
            "description_width": ""
          }
        },
        "70431f80ef3547d38b72f59aaf1ad910": {
          "model_module": "@jupyter-widgets/base",
          "model_module_version": "1.2.0",
          "model_name": "LayoutModel",
          "state": {
            "_model_module": "@jupyter-widgets/base",
            "_model_module_version": "1.2.0",
            "_model_name": "LayoutModel",
            "_view_count": null,
            "_view_module": "@jupyter-widgets/base",
            "_view_module_version": "1.2.0",
            "_view_name": "LayoutView",
            "align_content": null,
            "align_items": null,
            "align_self": null,
            "border": null,
            "bottom": null,
            "display": null,
            "flex": null,
            "flex_flow": null,
            "grid_area": null,
            "grid_auto_columns": null,
            "grid_auto_flow": null,
            "grid_auto_rows": null,
            "grid_column": null,
            "grid_gap": null,
            "grid_row": null,
            "grid_template_areas": null,
            "grid_template_columns": null,
            "grid_template_rows": null,
            "height": null,
            "justify_content": null,
            "justify_items": null,
            "left": null,
            "margin": null,
            "max_height": null,
            "max_width": null,
            "min_height": null,
            "min_width": null,
            "object_fit": null,
            "object_position": null,
            "order": null,
            "overflow": null,
            "overflow_x": null,
            "overflow_y": null,
            "padding": null,
            "right": null,
            "top": null,
            "visibility": null,
            "width": null
          }
        },
        "7ce7a2e4574442c2a5d66cc96c7f86c6": {
          "model_module": "@jupyter-widgets/controls",
          "model_module_version": "1.5.0",
          "model_name": "FloatProgressModel",
          "state": {
            "_dom_classes": [],
            "_model_module": "@jupyter-widgets/controls",
            "_model_module_version": "1.5.0",
            "_model_name": "FloatProgressModel",
            "_view_count": null,
            "_view_module": "@jupyter-widgets/controls",
            "_view_module_version": "1.5.0",
            "_view_name": "ProgressView",
            "bar_style": "success",
            "description": "",
            "description_tooltip": null,
            "layout": "IPY_MODEL_995388b681ce4cb2a84b8e703b4393d0",
            "max": 248498939,
            "min": 0,
            "orientation": "horizontal",
            "style": "IPY_MODEL_68e13022a60f47c0ac5c675901b8a25a",
            "value": 248498939
          }
        },
        "87051eba433244c485fbd580567c864e": {
          "model_module": "@jupyter-widgets/controls",
          "model_module_version": "1.5.0",
          "model_name": "HBoxModel",
          "state": {
            "_dom_classes": [],
            "_model_module": "@jupyter-widgets/controls",
            "_model_module_version": "1.5.0",
            "_model_name": "HBoxModel",
            "_view_count": null,
            "_view_module": "@jupyter-widgets/controls",
            "_view_module_version": "1.5.0",
            "_view_name": "HBoxView",
            "box_style": "",
            "children": [
              "IPY_MODEL_dbbf0e4436054b988da33fc691d1fce6",
              "IPY_MODEL_7ce7a2e4574442c2a5d66cc96c7f86c6",
              "IPY_MODEL_f78f382406f442f79d3d51c2787315a8"
            ],
            "layout": "IPY_MODEL_70431f80ef3547d38b72f59aaf1ad910"
          }
        },
        "995388b681ce4cb2a84b8e703b4393d0": {
          "model_module": "@jupyter-widgets/base",
          "model_module_version": "1.2.0",
          "model_name": "LayoutModel",
          "state": {
            "_model_module": "@jupyter-widgets/base",
            "_model_module_version": "1.2.0",
            "_model_name": "LayoutModel",
            "_view_count": null,
            "_view_module": "@jupyter-widgets/base",
            "_view_module_version": "1.2.0",
            "_view_name": "LayoutView",
            "align_content": null,
            "align_items": null,
            "align_self": null,
            "border": null,
            "bottom": null,
            "display": null,
            "flex": null,
            "flex_flow": null,
            "grid_area": null,
            "grid_auto_columns": null,
            "grid_auto_flow": null,
            "grid_auto_rows": null,
            "grid_column": null,
            "grid_gap": null,
            "grid_row": null,
            "grid_template_areas": null,
            "grid_template_columns": null,
            "grid_template_rows": null,
            "height": null,
            "justify_content": null,
            "justify_items": null,
            "left": null,
            "margin": null,
            "max_height": null,
            "max_width": null,
            "min_height": null,
            "min_width": null,
            "object_fit": null,
            "object_position": null,
            "order": null,
            "overflow": null,
            "overflow_x": null,
            "overflow_y": null,
            "padding": null,
            "right": null,
            "top": null,
            "visibility": null,
            "width": null
          }
        },
        "aee801f6e4ae458084b9399f3eab6e97": {
          "model_module": "@jupyter-widgets/controls",
          "model_module_version": "1.5.0",
          "model_name": "DescriptionStyleModel",
          "state": {
            "_model_module": "@jupyter-widgets/controls",
            "_model_module_version": "1.5.0",
            "_model_name": "DescriptionStyleModel",
            "_view_count": null,
            "_view_module": "@jupyter-widgets/base",
            "_view_module_version": "1.2.0",
            "_view_name": "StyleView",
            "description_width": ""
          }
        },
        "dbbf0e4436054b988da33fc691d1fce6": {
          "model_module": "@jupyter-widgets/controls",
          "model_module_version": "1.5.0",
          "model_name": "HTMLModel",
          "state": {
            "_dom_classes": [],
            "_model_module": "@jupyter-widgets/controls",
            "_model_module_version": "1.5.0",
            "_model_name": "HTMLModel",
            "_view_count": null,
            "_view_module": "@jupyter-widgets/controls",
            "_view_module_version": "1.5.0",
            "_view_name": "HTMLView",
            "description": "",
            "description_tooltip": null,
            "layout": "IPY_MODEL_29037ac3f0c2410fa95921f897dbb0fd",
            "placeholder": "​",
            "style": "IPY_MODEL_aee801f6e4ae458084b9399f3eab6e97",
            "value": "pytorch_model.bin: 100%"
          }
        },
        "f78f382406f442f79d3d51c2787315a8": {
          "model_module": "@jupyter-widgets/controls",
          "model_module_version": "1.5.0",
          "model_name": "HTMLModel",
          "state": {
            "_dom_classes": [],
            "_model_module": "@jupyter-widgets/controls",
            "_model_module_version": "1.5.0",
            "_model_name": "HTMLModel",
            "_view_count": null,
            "_view_module": "@jupyter-widgets/controls",
            "_view_module_version": "1.5.0",
            "_view_name": "HTMLView",
            "description": "",
            "description_tooltip": null,
            "layout": "IPY_MODEL_2d922421f5ef4c8faccb559c2237064a",
            "placeholder": "​",
            "style": "IPY_MODEL_6bdaeefa5cb54e9d8e197e1691f4a95f",
            "value": " 248M/248M [00:04&lt;00:00, 49.7MB/s]"
          }
        }
      }
    }
  },
  "nbformat": 4,
  "nbformat_minor": 0
}

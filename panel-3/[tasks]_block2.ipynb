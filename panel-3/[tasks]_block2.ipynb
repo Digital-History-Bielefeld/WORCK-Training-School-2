{
 "cells": [
  {
   "cell_type": "markdown",
   "id": "910fb972-3825-4b8a-bcb9-78d056f9addd",
   "metadata": {},
   "source": [
    "# Python Basics I.2\n",
    "\n",
    "**Note before you start:** In some code cells below you will see a `#` symbol. This is a comment in Python. In this notebook, you should replace the commentary passages with your content in various places.\n",
    "\n",
    "## Dictionaries\n",
    "\n",
    "Dictionaries are kind of an advanced list. Dictionaries are always written as key-value pairs in curly brackets, like `{\"location\": \"Bielefeld\"}`. In addition to lists, individual elements can be accessed directly via their key: `workshop = {\"location\": \"Bielefeld\", \"weather\":\"good\", \"topic\": \"python\"}`, `workshop[\"topic\"]` would return \"python\". Dictionaries are mutable, but most of the functions for lists does not work for dictionaries. They are more likely to be used to store larger nested data volumes and therefore have a few functions of their own.\n",
    "\n",
    "a) \n",
    "- Create a dictionary. \n",
    "- Store it in the variable myDay. \n",
    "- It should have the **keys** \"weekday\", \"weather\" and \"plans\".\n",
    "- The keys should each have the **values** \"monday\", \"good\" and \"workshop\"\n",
    "- Now print value of \"weather\"."
   ]
  },
  {
   "cell_type": "code",
   "execution_count": null,
   "id": "a1122644",
   "metadata": {},
   "outputs": [],
   "source": []
  },
  {
   "cell_type": "markdown",
   "id": "af458809",
   "metadata": {},
   "source": [
    "b) To access the keys, use the .keys()-function. \n",
    "You can use it like this:\n",
    "```python\n",
    "workshop = {\"location\": \"Bielefeld\", \"weather\":\"good\", \"topic\": \"python\"}\n",
    "print(workshop.keys())\n",
    "```\n",
    "\n",
    "Try it with your myDay-Dictionary."
   ]
  },
  {
   "cell_type": "code",
   "execution_count": null,
   "id": "02769800",
   "metadata": {},
   "outputs": [],
   "source": []
  },
  {
   "cell_type": "markdown",
   "id": "15475992",
   "metadata": {},
   "source": [
    "c) You can also access the values with the .values()-function. The usage is similar to the .keys()-function.\n",
    "Try it with your myDay-Dictionary."
   ]
  },
  {
   "cell_type": "code",
   "execution_count": null,
   "id": "94f30688",
   "metadata": {},
   "outputs": [],
   "source": []
  },
  {
   "cell_type": "markdown",
   "id": "928cafe5",
   "metadata": {},
   "source": [
    "d) You can also access both keys and values at the same time with the .items()-function. The usage is similar to the .keys()-function.\n",
    "It returns a list of tuples, where each tuple contains a key-value pair.\n",
    "Try it with your myDay-Dictionary."
   ]
  },
  {
   "cell_type": "code",
   "execution_count": null,
   "id": "8a1cfbcf",
   "metadata": {},
   "outputs": [],
   "source": []
  },
  {
   "cell_type": "markdown",
   "id": "e5666862",
   "metadata": {},
   "source": [
    "e) To check, if a key or value exist in a dictionary, you can use the \"in\" keyword. \n",
    "\n",
    "Use it like this:\n",
    "\n",
    "```python\n",
    "workshop = {\"location\": \"Bielefeld\", \"weather\":\"good\", \"topic\": \"python\"}\n",
    "print(\"weather\" in workshop.keys()) # returns True\n",
    "print(\"date\" in workshop.keys()) # returns False\n",
    "```\n",
    "\n",
    "Try it with your myDay-Dictionary:\n",
    "- Check if \"weather\" is a **key** in myDay\n",
    "- Check if \"rain\" is a **value** in myDay"
   ]
  },
  {
   "cell_type": "code",
   "execution_count": null,
   "id": "add23c0f",
   "metadata": {},
   "outputs": [],
   "source": []
  },
  {
   "cell_type": "markdown",
   "id": "e1278a70-02f1-44c6-a018-fc6a8e8a39fa",
   "metadata": {},
   "source": [
    "## Flow Control"
   ]
  },
  {
   "cell_type": "markdown",
   "id": "eec2208c-b6db-4703-98c1-ed7beba7a76c",
   "metadata": {},
   "source": [
    "At many points you need a data type with just two value possibilites: this are called \"boolean values\" and can only store True or False. This kind of data is neccessary if you have a flow and need to make a dicision: Is it raining? Yes, then take an umbrella. No, then go outside and have fun.\n",
    "\n",
    " ### Comparison Operators Cheat Sheet\n",
    "\n",
    "| Operator | Operation                         |\n",
    "| -------- | --------------------------------- |\n",
    "| ==       | Equal to                          |\n",
    "| !=       | Not equal to                      | \n",
    "| <        | Less than                         | \n",
    "| >        | Greater than                      |\n",
    "| <=       | Less than or equal to             |\n",
    "| >=       | Greater than or equal to          |\n",
    "\n",
    "a) What do you think: Is `42 == 42` >`True`? Think about it and then print it out."
   ]
  },
  {
   "cell_type": "code",
   "execution_count": null,
   "id": "dd94b164-8554-4751-b289-9c0cbb8dc3de",
   "metadata": {},
   "outputs": [],
   "source": []
  },
  {
   "cell_type": "markdown",
   "id": "da1c3459-e84f-4b03-ade3-c48d81baca31",
   "metadata": {},
   "source": [
    "b) Is `2 != 3` >`False`? Think about it and then print it out."
   ]
  },
  {
   "cell_type": "code",
   "execution_count": null,
   "id": "2b07c259-7c2a-4a57-9603-269e1c7647c9",
   "metadata": {},
   "outputs": [],
   "source": []
  },
  {
   "cell_type": "markdown",
   "id": "10dafdec-aacd-42db-9ab8-1bf176af6946",
   "metadata": {},
   "source": [
    "c) Is `\"hello\" === \"Hello\"` > `True`?"
   ]
  },
  {
   "cell_type": "code",
   "execution_count": null,
   "id": "43abf328-3baf-46ce-8ec4-56d7890e6225",
   "metadata": {},
   "outputs": [],
   "source": []
  },
  {
   "cell_type": "markdown",
   "id": "f52d7307-2484-4ef2-8651-7588e9e1644b",
   "metadata": {},
   "source": [
    "There are three Boolean operators. `and` and `or` take two Boolean values and check them according to the following table.\n",
    "\n",
    "The `and` truth table:\n",
    "\n",
    "| Expression      | Evaluates to     |\n",
    "| --------------- | ---------------- |\n",
    "| True and True   | True             |\n",
    "| True and False  | False            |\n",
    "| False and True  | False            |\n",
    "| False and False | False            |\n",
    "\n",
    "The `or` truth table:\n",
    "\n",
    "| Expression      | Evaluates to     |\n",
    "| --------------- | ---------------- |\n",
    "| True or True   | True              |\n",
    "| True or False  | True              |\n",
    "| False or True  | True              |\n",
    "| False or False | False             |\n",
    "\n",
    "The `not` operator takes only one Boolean value and reverses it: `not True` >`False`, `not False` > `True`\n",
    "\n",
    "d) Type in `(4 < 5) and (7 > 3)`. Is it `True`?"
   ]
  },
  {
   "cell_type": "code",
   "execution_count": null,
   "id": "76eb3514-3339-4011-b15a-f274bf2a7e40",
   "metadata": {},
   "outputs": [],
   "source": []
  },
  {
   "cell_type": "markdown",
   "id": "1c1efa4e-89bf-4850-aaba-184163cd4629",
   "metadata": {},
   "source": [
    "e) Is `(1 == 7) or (2 == 2)` >`True`? Print it!"
   ]
  },
  {
   "cell_type": "code",
   "execution_count": null,
   "id": "3a75590d-ff37-4b22-94d4-3ef62c1296be",
   "metadata": {},
   "outputs": [],
   "source": []
  },
  {
   "cell_type": "markdown",
   "id": "73f29b20-8c26-403c-ab51-c909c55c3d50",
   "metadata": {},
   "source": [
    "f) Create the variable \"weekday\" and assign the value \"Monday\" to it. Is `weekday == \"Tuesday\"` >`True`? Print it!"
   ]
  },
  {
   "cell_type": "code",
   "execution_count": null,
   "id": "64cab139-358e-4cff-b159-73e728927ef3",
   "metadata": {},
   "outputs": [],
   "source": []
  },
  {
   "cell_type": "markdown",
   "id": "2e0d9cbd-4aee-4180-9185-ea0c37ca65b5",
   "metadata": {},
   "source": [
    "Now let's use these pieces of code and create simple if-statements.\n",
    "\n",
    "Remember that the syntax looks like this:\n",
    "```python\n",
    "if expression operator expression:\n",
    "    do this\n",
    "elif expression operator expression:\n",
    "    do this\n",
    "else:\n",
    "    do this\n",
    "``` \n",
    "\n",
    "g) Create a variable workshop and assign the value \"Winter School\" to it. Then print \"Let's drink cocktails\" if the name is \"Summer School\" and else if the name is \"Winter School\" print \"Let's drink a tea.\"."
   ]
  },
  {
   "cell_type": "code",
   "execution_count": null,
   "id": "3b4cdf12-9aa9-4727-9bc4-5636551c2e56",
   "metadata": {},
   "outputs": [],
   "source": [
    "# Your variable:\n",
    "workshop = # Your value here\n",
    "\n",
    "# Your if-elif statement:\n"
   ]
  },
  {
   "cell_type": "markdown",
   "id": "ea650510-3539-4017-afcb-715c087a39e7",
   "metadata": {},
   "source": [
    "h) Change the value of the variable above to \"Summer School\" and see what happens if you run the code again.\n",
    "\n",
    "i) Now use the and-Operator and connect two variables. Create the variable year = 2024 under the name variable.\n",
    "Then print \"You are at the right place\" **if** the name **is** \"Winter School\" **and** the year **is not** 2023. **Else** print \"Something went wrong\""
   ]
  },
  {
   "cell_type": "code",
   "execution_count": null,
   "id": "16eb4983-18e4-4357-a7ab-fb9b7b7ee95e",
   "metadata": {},
   "outputs": [],
   "source": [
    "# Your variables:\n",
    "name = # Your value here\n",
    "year = # Your value here\n",
    "\n",
    "# Your if-else statement:\n"
   ]
  },
  {
   "cell_type": "markdown",
   "id": "e51bfc02-a550-48bd-b609-568f4ff0027d",
   "metadata": {},
   "source": [
    "Let's take a look at while loops. The while loops run as long as something is `True` or they are interrupted by the keyword \"break\". \n",
    "As long as the weather is not nice, you need an umbrella:\n",
    "\n",
    "```python\n",
    "weather = \"bad\"\n",
    "while weather == \"bad\":\n",
    "    print(\"The weather is bad\")\n",
    "    print(\"What is the weather now?\")\n",
    "    weather = input()\n",
    "```\n",
    "\n",
    "j) Now create a variable this_number with the value 3. Write a while loop: While this_number is **under** 15, print this_number and then add +1 to it in the next line.\n",
    "**Remember**: If you want to change the value of a variable, it is not enough to write `variable+number`, you need to reassign the value. `variable = variable + number` or even shorter: `variable += number`"
   ]
  },
  {
   "cell_type": "code",
   "execution_count": null,
   "id": "d37d0b28-f40e-4dd9-bc46-7ad5bf57d9bf",
   "metadata": {},
   "outputs": [],
   "source": [
    "# Your variable:\n",
    "this_number = # Your value here\n",
    "\n",
    "# Your while loop:\n"
   ]
  },
  {
   "cell_type": "markdown",
   "id": "5e0b1837-131b-4fee-babe-29e5b034f74a",
   "metadata": {},
   "source": [
    "You can use the keywords `continue` and `break` to change the flow of the loop.\n",
    "\n",
    "k) Write another while loop. If you use `while True:` it is basically a never ending while loop, because it is everytime `True`. So `While True:` is the head. With the built-in function `input()` you can ask for an input into the terminal. Add \"Please type in your name\" to the input query as an argument. Store `input()` in the variable `name`.\n",
    "If `name` is assigned \"your name\", **break** the loop. To show, that it has ended, you have a print statement under the while loop (**not inside**). Replace the comments with your code."
   ]
  },
  {
   "cell_type": "code",
   "execution_count": null,
   "id": "bcaa0cd1-c560-44c4-900a-2e672217d7e6",
   "metadata": {},
   "outputs": [],
   "source": [
    "while True:\n",
    "    # your input() variable\n",
    "    if name == \"your name\":\n",
    "        # your break statement\n",
    "print(\"Thank you!\")"
   ]
  },
  {
   "cell_type": "markdown",
   "id": "d49dc9f4-c679-4cf5-a8fa-02c6b85fa456",
   "metadata": {},
   "source": [
    "l) Now change your code block from below and add the `continue`-keyword. `continue` behaves like the end of a loop: As soon as the keyword is reached, the loop jumps back to the beginning. \n",
    "Replace `break` with `continue` in the code block and reverse the loop accordingly: as long as name is **not** \"your name\", continue. Add a `break` keyword **after** this if-condition. The while loop can only be terminated via `break` when the if condition block is exited."
   ]
  },
  {
   "cell_type": "code",
   "execution_count": null,
   "id": "48ee7ee2-51f4-42f5-973c-16432a9fa4ec",
   "metadata": {},
   "outputs": [],
   "source": [
    "while True:\n",
    "\tname = input(\"Please type your name\")\n",
    "\tif name == \"your name\": # Change this operator!\n",
    "\t\tbreak # Change this keyword!\n",
    "\t# your break statement\n",
    "print(\"Thank you!\")"
   ]
  },
  {
   "cell_type": "markdown",
   "id": "ecbe44f1-db08-485b-a4aa-9071429f3565",
   "metadata": {},
   "source": [
    "For loops are used more frequently than while loops. Unlike while loops, a value does not have to be `True` for the loop to be executed, but it is executed for a predefined number of values. This means that it counts up to a certain value.\n",
    "To count in a certain range, use the built-in function range(). So: \n",
    "```python\n",
    "i = 0\n",
    "for i in range(5):\n",
    "    print(i)\n",
    "```\n",
    "This means: Start at 0 and then count up to 5. The output would be 0, 1, 2, 3, 4.\n",
    "\n",
    "You can add 2 more paramters to the range function. The syntax is like this: \n",
    "\n",
    "```python\t\n",
    "for i in range(start, stop, steps):\n",
    "    print(i)\n",
    "```\n",
    "\n",
    "Per default the start is 0 and the steps are 1. Only the stop parameter needs to be passed.\n",
    "\n",
    "m) Make a for loop, where you start at 3, end at 50 and make steps of 4. Print every `i`. (**Note**: The `i` can also be a `n` or `item` or whatever you want. It is just a placeholder for the current value of the loop.)"
   ]
  },
  {
   "cell_type": "code",
   "execution_count": null,
   "id": "4898c4fe-13aa-4a67-b8e2-fc5e7ea3e0de",
   "metadata": {},
   "outputs": [],
   "source": []
  },
  {
   "cell_type": "markdown",
   "id": "d7ce02b9-9f4a-448c-8b44-945cdd7ecdf4",
   "metadata": {},
   "source": [
    "You can the for loops also to iterate over your lists and dictionaries.\n",
    "For this you can write your loops like this:\n",
    "```python\n",
    "for item in list:\n",
    "    print(item)\n",
    "\n",
    "for value in dict.values():\n",
    "    print(value)\n",
    "```\n",
    "\n",
    "n) \n",
    "- Create a list with 4 random items.\n",
    "- Iterate over the list and print every item with a for loop."
   ]
  },
  {
   "cell_type": "code",
   "execution_count": null,
   "id": "bab43047",
   "metadata": {},
   "outputs": [],
   "source": [
    "# Your list:\n",
    "animals = # Your value here\n",
    "\n",
    "# Your for loop:\n"
   ]
  },
  {
   "cell_type": "markdown",
   "id": "12ad6072",
   "metadata": {},
   "source": [
    "o) \n",
    "- Create a dictionary with 3 key-value pairs.\n",
    "- Iterate over the dictionary and print every key with a for loop."
   ]
  },
  {
   "cell_type": "code",
   "execution_count": null,
   "id": "785119fe",
   "metadata": {},
   "outputs": [],
   "source": [
    "# Your dictionary:\n",
    "\n",
    "# Your for loop:"
   ]
  },
  {
   "cell_type": "markdown",
   "id": "7805acd5",
   "metadata": {},
   "source": [
    "p)\n",
    "- Now use your dictionary from above and iterate over the dictionary and print every key-value with a for loop.\n",
    "The syntax is like this:\n",
    "```python\n",
    "for key, value in your_dict.items():\n",
    "    print(key, value)\n",
    "```"
   ]
  },
  {
   "cell_type": "code",
   "execution_count": null,
   "id": "5edc3405-97fe-44a3-96f1-754654244156",
   "metadata": {},
   "outputs": [],
   "source": [
    "# Your dictionary:\n",
    "\n",
    "# Your for loop:"
   ]
  },
  {
   "cell_type": "markdown",
   "id": "ae4689ff-825e-45d1-8367-cb1deaecba39",
   "metadata": {},
   "source": [
    "## Strings\n",
    "\n",
    "Working with text and strings is particularly important for historians. Python offers numerous methods to make life easier with strings. Let's start right away to familiarize ourselves with working with strings!\n",
    "\n",
    "a) You know that we write strings in Python with single and double quotes.\n",
    "If you want to write a multiline string, you use three single quotes before and after the string: '''. \n",
    "Try to write a multiline string, store it into \"multiline\". "
   ]
  },
  {
   "cell_type": "code",
   "execution_count": null,
   "id": "d27d10a3",
   "metadata": {},
   "outputs": [],
   "source": [
    "# Your multi-line string:\n",
    "multiline = # Your value here"
   ]
  },
  {
   "cell_type": "markdown",
   "id": "2a8e4fe6",
   "metadata": {},
   "source": [
    "b) Sometimes you have a string with special characters in it. If you want to print the string 'My dog's best friend is a cat', \n",
    "you have a problem, because you can't use one single quote inside of single quotes. To escape this, you can use a backslash. \n",
    "Try it with this example string! Remove the comment after adding the backslash."
   ]
  },
  {
   "cell_type": "code",
   "execution_count": null,
   "id": "72a70b66",
   "metadata": {},
   "outputs": [],
   "source": [
    "# example_string = 'My dog's best friend is a cat'\n",
    "print(example_string)"
   ]
  },
  {
   "cell_type": "markdown",
   "id": "28cb3d6d",
   "metadata": {},
   "source": [
    "Similar to a list (a string is a special type of list), you can also slice strings and index individual letters.\n",
    "\n",
    "c) Store the string \"Hello there\" in the variable below. Get the character at the index `[4]`. Look at the lists topic, task a), to get a hint."
   ]
  },
  {
   "cell_type": "code",
   "execution_count": null,
   "id": "b12da133",
   "metadata": {},
   "outputs": [],
   "source": [
    "greeting = \"Hello there\"\n",
    "print(greeting) # Add the index"
   ]
  },
  {
   "cell_type": "markdown",
   "id": "243b3742",
   "metadata": {},
   "source": [
    "d) Get the characters \"lo the\" **sliced** out the string. Look at the lists topic, task f), to get a hint. Remember: You start counting at 0, and the end index is not included."
   ]
  },
  {
   "cell_type": "code",
   "execution_count": null,
   "id": "fe914407",
   "metadata": {},
   "outputs": [],
   "source": [
    "greeting = \"Hello there\""
   ]
  },
  {
   "cell_type": "markdown",
   "id": "e433e021",
   "metadata": {},
   "source": [
    "e) If you want to check whether a letter or a sequence of letters is present in a string, you can use the operators `in` and `not in`. So: `\"test\" in \"test string\"`.\n",
    "Does \"the\" occur in our string? Try it with both keywords."
   ]
  },
  {
   "cell_type": "code",
   "execution_count": null,
   "id": "10ba6408",
   "metadata": {},
   "outputs": [],
   "source": []
  },
  {
   "cell_type": "markdown",
   "id": "4d3b1bd3",
   "metadata": {},
   "source": [
    "f) There are various ways to join strings together. \n",
    "- Create two variables \"name\" and \"job\" and store any values in them. We want to print a sentence with both variables, like \"My name is Inga and I am a developer\".\n",
    "- **Method 1:** Use the `+` operator to concatenate and print the strings.\n",
    "- **Method 2:** A nicer and easier method is *string interpolation*. The `%s` operator is used in a sentence as a marker for a variable, which is listed after the string: \n",
    "```python\n",
    "name = \"Inga\"\n",
    "print(\"This is my name: %s\" % (name)`).\n",
    "```\n",
    "Try it with your variables.\n",
    "- **Method 3:** With the last method, the f-strings, you can write the variables directly into the string, which makes it the clearest and most beautiful method. \n",
    "It would look like this: `f \"This is my name: {name}\"` You can also modify the variable directly in the curly brackets, for example: `f \"I am {age +1} years old\"`. \n",
    "```python\n",
    "name = \"Inga\"\n",
    "print(f\"This is my name: {name}\")\n",
    "```\n",
    "Try the previous example again."
   ]
  },
  {
   "cell_type": "code",
   "execution_count": null,
   "id": "f2827ab4",
   "metadata": {},
   "outputs": [],
   "source": [
    "# Your variables:\n",
    "name = # Your value here\n",
    "job = # Your value here\n",
    "\n",
    "# Method 1:\n",
    "\n",
    "# Method 2:\n",
    "\n",
    "# Method 3:"
   ]
  },
  {
   "cell_type": "markdown",
   "id": "cd156da1-7725-48f8-80da-2ed1638f4a20",
   "metadata": {},
   "source": [
    "### Useful Methods for Strings\n",
    "\n",
    "These are a few basics you should know when working with strings in Python. In addition, as with lists, there are numerous built-in functions that offer you many options for working with strings. Let's take a closer look at them!\n",
    "\n",
    "a) I have this variable but it should be in lower case. Use the `.lower()` method to change the string to lower case:\n",
    "```python\n",
    "my_string = \"I AM A BIG FAN OF PYTHON\"\n",
    "my_string = my_string.lower()\n",
    "```\n",
    "Print the string after the method."
   ]
  },
  {
   "cell_type": "code",
   "execution_count": null,
   "id": "0be3daea",
   "metadata": {},
   "outputs": [],
   "source": [
    "greeting = \"HELLO THERE\"\n",
    "greeting = # Your method here\n",
    "print(greeting)"
   ]
  },
  {
   "cell_type": "markdown",
   "id": "4f17eecb",
   "metadata": {},
   "source": [
    "b) On the other hand, I have a string that should be in upper case. Use the `.upper()` method to change the string to upper case. The syntax is similar to the previous example."
   ]
  },
  {
   "cell_type": "code",
   "execution_count": null,
   "id": "8318c840",
   "metadata": {},
   "outputs": [],
   "source": [
    "greeting = \"hello there\"\n",
    "greeting = # Your method here\n",
    "print(greeting)"
   ]
  },
  {
   "cell_type": "markdown",
   "id": "b49732fe",
   "metadata": {},
   "source": [
    "c) For my book title I want to capitalize the first letter of every word. Use the `.title()` method. The syntax is similar to the previous example."
   ]
  },
  {
   "cell_type": "code",
   "execution_count": null,
   "id": "3f4a00e4",
   "metadata": {},
   "outputs": [],
   "source": [
    "book_title = \"i am a book title\"\n",
    "book_title = # Your method here\n",
    "print(book_title)"
   ]
  },
  {
   "cell_type": "markdown",
   "id": "f90f19c5",
   "metadata": {},
   "source": [
    "e) Sometimes you want to check if a string starts or ends with specific characters before you work with this string. \n",
    "For this, there is the built-in function .startswith('string you ask for') or .endswith('string you ask for'). \n",
    "Is our string starting with \"Hello\"? Is it ending with \"!\"? "
   ]
  },
  {
   "cell_type": "code",
   "execution_count": null,
   "id": "12de2a91",
   "metadata": {},
   "outputs": [],
   "source": [
    "greeting = \"Hello there\"\n",
    "# Your print statements here"
   ]
  },
  {
   "cell_type": "markdown",
   "id": "1a36b058",
   "metadata": {},
   "source": [
    "f) If you have a list and you need to print it as a string, you can use the `.join` function. For this you start with a separator, with which you seperate each string of the list. For example, you have a list of names and you want to print them as a string, seperated by a comma, you would use a comma as a separator. \n",
    "This can also be a whitespace `\" \"` or whatever you want to use to join together your list items. Also \" and \" would work as a seperator. As an argument you pass your list, like this:\n",
    "```python\n",
    "sentence = [\"I\", \"learn\", \"Python\"]\n",
    "print(\" \".join(sentence)) # This is a whitespace as a separator\n",
    "# Output: I learn Python\n",
    "```\n",
    "Try it with a list \"animals\" with the items \"cat\", \"bat\", \"rat\". Put them together **with a comma + one whitespace separator**."
   ]
  },
  {
   "cell_type": "code",
   "execution_count": null,
   "id": "a3e9705c",
   "metadata": {},
   "outputs": [],
   "source": [
    "animals = [\"cat\", \"bat\", \"rat\"]\n"
   ]
  },
  {
   "cell_type": "markdown",
   "id": "afec865d",
   "metadata": {},
   "source": [
    "g) You can also do the whole thing in reverse and split a string into a list with a specific separator. This means, you cut the string at a specific point and put the parts into a list. For example, you get a big string with a lot of names and you want to put them into a list. For this you use the .split() method. The syntax is like this:\n",
    "```python\n",
    "sentence = \"I learn Python\"\n",
    "print(sentence.split(\" \")) # This is a whitespace as a separator, but you can use whatever you want\n",
    "# Output: [\"I\", \"learn\", \"Python\"]\n",
    "```\n",
    "\n",
    "Try it with the string below and split it at the commas (with one whitespace after the comma): `\", \"`"
   ]
  },
  {
   "cell_type": "code",
   "execution_count": null,
   "id": "a2430db3",
   "metadata": {},
   "outputs": [],
   "source": [
    "string = \"cat, bat, rat\"\n"
   ]
  },
  {
   "cell_type": "markdown",
   "id": "5c7017c6",
   "metadata": {},
   "source": [
    "g) You have already learned to write multiline strings. \n",
    "- Now you want to modify this small text \"little_text\" so that each paragraph - separated by a line break `\\n` - is a single string in a list. Save it to \"text_as_list\".\n",
    "- Print the list.\n",
    "- Now join the list again to a string with a whitespace as a separator. Save it to \"new_text\".\n",
    "- Print the string."
   ]
  },
  {
   "cell_type": "code",
   "execution_count": null,
   "id": "5b036720",
   "metadata": {},
   "outputs": [],
   "source": [
    "little_text = '''\n",
    "Hello this\n",
    "is a multiline\n",
    "text.\n",
    "''' \n",
    "text_as_list = # splitted text\n",
    "print(text_as_list)\n",
    "# new_text = # joined text\n",
    "# print(new_text)"
   ]
  },
  {
   "cell_type": "markdown",
   "id": "3fa1e557",
   "metadata": {},
   "source": [
    "h) Sometimes there are a lot of spaces in texts that don't belong there. These can be removed in Python using a simple method. \n",
    "We use the `strip()` methods for this: `my_string.strip()` or `my_string.lstrip()` or `my_string.rstrip()` for removing spaces to the left or right of the first letter. \n",
    "Try all three methods!"
   ]
  },
  {
   "cell_type": "code",
   "execution_count": null,
   "id": "7fb29437",
   "metadata": {},
   "outputs": [],
   "source": [
    "white_space = \"    lots of white space    \"\n",
    "# Strip white spaces on both sides\n",
    "\n",
    "# Strip white spaces on the left\n",
    "\n",
    "# Strip white spaces on the right"
   ]
  },
  {
   "cell_type": "markdown",
   "id": "6ad9a485",
   "metadata": {},
   "source": [
    "i) If you want to replace a specific character in a string, you can use the .replace() method.\n",
    "This method takes two arguments: the character you want to replace and the character you want to replace it with: \n",
    "```python\t\n",
    "my_string = \"old string\"\n",
    "my_string = my_string.replace(\"old\", \"new\")\n",
    "```\n",
    "Replace the \"a\" with \"e\" in the string \"banana\"."
   ]
  },
  {
   "cell_type": "code",
   "execution_count": null,
   "id": "a049a5b1",
   "metadata": {},
   "outputs": [],
   "source": [
    "fruit = \"banana\"\n"
   ]
  },
  {
   "cell_type": "markdown",
   "id": "d01fe495-5278-437c-95c2-48f952193461",
   "metadata": {},
   "source": [
    "## The `open()`-Function in Python\n",
    "\n",
    "[The open() function in Python](https://docs.python.org/3/library/functions.html#open) is a built-in function used to open and manipulate files. It provides a flexible way to interact with files, allowing you to perform various operations such as reading, writing, and appending. Let's try it out!\n",
    "\n",
    "The general syntax of the open() function is as follows (most of this you won't need):\n",
    "\n",
    "```python\n",
    "open(file, mode='r', buffering=-1, encoding=None, errors=None, newline=None, closefd=True, opener=None)\n",
    "```\n",
    "\n",
    "- file: The name of the file or a path to the file.\n",
    "- mode: Specifies the mode in which the file is opened. It can be 'r' for reading, 'w' for writing, 'a' for appending, and more.\n",
    "- buffering: An optional integer that represents the buffer size. If omitted or set to -1, the system default is used.\n",
    "- encoding: Specifies the encoding of the file, such as 'utf-8' or 'ascii'. Default is None (system dependent).\n",
    "- errors: Specifies how encoding and decoding errors are to be handled.\n",
    "- newline: Controls how universal newlines mode works (None, '', '\\n', '\\r', and '\\r\\n').\n",
    "- closefd: If closefd is False, the underlying file descriptor will not be closed when the file is closed.\n",
    "- opener: A custom opener that can be used to open the file.\n",
    "\n",
    "Now, let's explore some examples of using the open() function:\n",
    "Example 1: Reading a File\n",
    "\n",
    "```python\n",
    "\n",
    "# Open a file in read mode\n",
    "with open('example.txt', 'r') as file:\n",
    "    content = file.read()\n",
    "    print(content)\n",
    "```\n",
    "\n",
    "Example 2: Writing to a File\n",
    "\n",
    "```python\n",
    "\n",
    "# Open a file in write mode and write some content\n",
    "with open('output.txt', 'w') as file:\n",
    "    file.write(\"This is a sample text written to the file.\")\n",
    "```\n",
    "\n",
    "Example 3: Appending to a File\n",
    "\n",
    "```python\n",
    "\n",
    "# Open a file in append mode and add more content\n",
    "with open('output.txt', 'a') as file:\n",
    "    file.write(\"\\nThis is an additional line appended to the file.\")\n",
    "```\n",
    "\n",
    "These examples show how to open files in different modes and perform basic operations, read more [here](https://docs.python.org/3/tutorial/inputoutput.html#reading-and-writing-files). As you progress through the exercises, you'll gain a deeper understanding of the open() function and its capabilities.\n",
    "\n",
    "a) Open the file named 'EAP.txt' in the current directory in read-only mode ('r').\n",
    "Print the content of the file."
   ]
  },
  {
   "cell_type": "code",
   "execution_count": null,
   "id": "98e0e081",
   "metadata": {},
   "outputs": [],
   "source": []
  },
  {
   "cell_type": "markdown",
   "id": "d33ae8e8",
   "metadata": {},
   "source": [
    "b) Open a new file named 'output.txt' in write mode ('w').\n",
    "Write a message of your choice to the file. Look in your directory to the left if the file was created and if the message was written to it."
   ]
  },
  {
   "cell_type": "code",
   "execution_count": null,
   "id": "66e0161c",
   "metadata": {},
   "outputs": [],
   "source": []
  },
  {
   "cell_type": "markdown",
   "id": "ae940cf0",
   "metadata": {},
   "source": [
    "c) Open your new file in read-only mode and print the content of the file."
   ]
  },
  {
   "cell_type": "code",
   "execution_count": null,
   "id": "2bf64fc3",
   "metadata": {},
   "outputs": [],
   "source": []
  },
  {
   "cell_type": "markdown",
   "id": "24a4ddd2",
   "metadata": {},
   "source": [
    "d) Open the 'output.txt' file in append mode ('a').\n",
    "Append a new line with a different message to the file and print its content."
   ]
  },
  {
   "cell_type": "code",
   "execution_count": null,
   "id": "c1776a71",
   "metadata": {},
   "outputs": [],
   "source": []
  },
  {
   "cell_type": "markdown",
   "id": "f8847f74",
   "metadata": {},
   "source": [
    "e) Open your new file again in read-only mode and print the content of the file."
   ]
  },
  {
   "cell_type": "code",
   "execution_count": null,
   "id": "dcd62c1b",
   "metadata": {},
   "outputs": [],
   "source": []
  },
  {
   "cell_type": "markdown",
   "id": "8aa94056",
   "metadata": {},
   "source": [
    "df) Open the 'output.txt' file in read and write mode ('r+').\n",
    "Read the existing content, print it, and then add a new line to the file in the same function block."
   ]
  },
  {
   "cell_type": "code",
   "execution_count": null,
   "id": "49f9f56c",
   "metadata": {},
   "outputs": [],
   "source": []
  },
  {
   "cell_type": "markdown",
   "id": "26dcbc3b",
   "metadata": {},
   "source": [
    "g) Open your new file a last time in read-only mode and print the content of the file."
   ]
  },
  {
   "cell_type": "code",
   "execution_count": null,
   "id": "ff509e35-1f0f-4642-a4f8-41dc6e08bbcb",
   "metadata": {},
   "outputs": [],
   "source": []
  }
 ],
 "metadata": {
  "kernelspec": {
   "display_name": "Python 3 (ipykernel)",
   "language": "python",
   "name": "python3"
  },
  "language_info": {
   "codemirror_mode": {
    "name": "ipython",
    "version": 3
   },
   "file_extension": ".py",
   "mimetype": "text/x-python",
   "name": "python",
   "nbconvert_exporter": "python",
   "pygments_lexer": "ipython3",
   "version": "3.10.12"
  }
 },
 "nbformat": 4,
 "nbformat_minor": 5
}

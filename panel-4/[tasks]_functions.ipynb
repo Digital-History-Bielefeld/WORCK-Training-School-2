{
 "cells": [
  {
   "cell_type": "markdown",
   "metadata": {},
   "source": [
    "# Functions\n",
    "Fill `____` pieces of the code blocks. Happy coding."
   ]
  },
  {
   "cell_type": "markdown",
   "metadata": {},
   "source": [
    "## 1. Warm up\n",
    "Let's warm up with some basic functions."
   ]
  },
  {
   "cell_type": "markdown",
   "metadata": {},
   "source": [
    "The `introduce_yourself` function should print \"Hello my name is Patrick\". Feel free to replace the name with your own one. ;)"
   ]
  },
  {
   "cell_type": "code",
   "execution_count": null,
   "metadata": {},
   "outputs": [],
   "source": [
    "____ introduce_yourself():\n",
    "    print(____)\n",
    "\n",
    "introduce_yourself()"
   ]
  },
  {
   "cell_type": "markdown",
   "metadata": {},
   "source": [
    "Now a more generic version of this. The function `introduce_person` takes one parameter `name` and introduces this person."
   ]
  },
  {
   "cell_type": "code",
   "execution_count": null,
   "metadata": {},
   "outputs": [],
   "source": [
    "____ introduce_person(name):\n",
    "    print(\"Hello the persons name is \" + ____ + \".\")"
   ]
  },
  {
   "cell_type": "markdown",
   "metadata": {},
   "source": [
    "Call the function and introduce someone."
   ]
  },
  {
   "cell_type": "code",
   "execution_count": null,
   "metadata": {},
   "outputs": [],
   "source": [
    "introduce_person(____)"
   ]
  },
  {
   "cell_type": "markdown",
   "metadata": {},
   "source": [
    "## 2. Fun with functions\n",
    "\n",
    "Your next task is to write a function that returns the boolean value `True`, if a given number is even and `False` if not.<br>\n",
    "*Hint: To determin if a number is even, you can use the modulo operator: `4 % 2 == 0`*"
   ]
  },
  {
   "cell_type": "code",
   "execution_count": null,
   "metadata": {},
   "outputs": [],
   "source": [
    "____ is_even(____):\n",
    "    if ____ % 2 == 0:\n",
    "        return ____\n",
    "    else:\n",
    "        return ____\n",
    "\n",
    "# For the pros: can you write the same function with just two lines of code?"
   ]
  },
  {
   "cell_type": "code",
   "execution_count": null,
   "metadata": {},
   "outputs": [],
   "source": [
    "assert is_even(1) == False\n",
    "assert is_even(2) == True\n",
    "assert is_even(3) == False\n",
    "assert is_even(4) == True"
   ]
  },
  {
   "cell_type": "markdown",
   "metadata": {},
   "source": [
    "Use the `is_even` function here to print a message if the parameter `number` is even or odd.<br>\n",
    "*Hint: Read the code carefully*"
   ]
  },
  {
   "cell_type": "code",
   "execution_count": null,
   "metadata": {},
   "outputs": [],
   "source": [
    "____ conditional_print(number):\n",
    "    if ____:\n",
    "        print(\"The number is odd.\")\n",
    "    else:\n",
    "        print(\"The number is even.\")"
   ]
  },
  {
   "cell_type": "code",
   "execution_count": null,
   "metadata": {},
   "outputs": [],
   "source": [
    "conditional_print(1)\n",
    "conditional_print(2)\n",
    "conditional_print(3)\n",
    "conditional_print(4)"
   ]
  },
  {
   "cell_type": "markdown",
   "metadata": {},
   "source": [
    "The next one is tricky. The function should return `True` if the parameter `year` is a leap year.<br>\n",
    "*Hint: Return True for each year that is a multiple of 4 (except for years evenly divisible by 100, but not by 400)*"
   ]
  },
  {
   "cell_type": "code",
   "execution_count": null,
   "metadata": {},
   "outputs": [],
   "source": [
    "____ is_leap_year(year):\n",
    "    if year % 400 == 0:\n",
    "        ____ True\n",
    "    if year % ____ == 0:\n",
    "        ____ ____\n",
    "    if year % ____ == 0:\n",
    "        ____ ____\n",
    "    ____ ____"
   ]
  },
  {
   "cell_type": "code",
   "execution_count": null,
   "metadata": {},
   "outputs": [],
   "source": [
    "assert is_leap_year(1700) == False\n",
    "assert is_leap_year(1800) == False\n",
    "assert is_leap_year(1900) == False\n",
    "assert is_leap_year(2000) == True\n",
    "assert is_leap_year(2004) == True"
   ]
  },
  {
   "cell_type": "markdown",
   "metadata": {},
   "source": [
    "## 3. Text processing\n",
    "\n",
    "Write a function that counts words in a text and returns a dictionary with the words as keys and the number of occurences as values."
   ]
  },
  {
   "cell_type": "code",
   "execution_count": null,
   "metadata": {},
   "outputs": [],
   "source": [
    "____ count_words(text):\n",
    "    # we split the text into words by splitting it at spaces\n",
    "    words = text.split(\" \")\n",
    "    # the words variable will now hold a list of words\n",
    "\n",
    "    count_dictionary = {}\n",
    "    for ____ in ____:\n",
    "        if ____ in count_dictionary:\n",
    "            # your code here\n",
    "        else:\n",
    "            # your code here\n",
    "    ____ ____"
   ]
  },
  {
   "cell_type": "code",
   "execution_count": null,
   "metadata": {},
   "outputs": [],
   "source": [
    "test_text = \"this is an example text for word counting . Counting words in a text is fun and useful!\"\n",
    "result = count_words(test_text)\n",
    "print(result)"
   ]
  },
  {
   "cell_type": "markdown",
   "metadata": {},
   "source": [
    "Make the `count_words` function optionally case insensitive by using an optional parameter.<br>\n",
    "*Hint: Take a look at Python's `string.lower` function.*"
   ]
  },
  {
   "cell_type": "code",
   "execution_count": null,
   "metadata": {},
   "outputs": [],
   "source": [
    "____ count_words(text, ignore_case=False):\n",
    "    # your implementation here (maybe reuse parts of the previous function)"
   ]
  },
  {
   "cell_type": "code",
   "execution_count": null,
   "metadata": {},
   "outputs": [],
   "source": [
    "test_text = \"this is an example text for word counting . Counting words in a text is fun and useful!\"\n",
    "result = count_words(test_text, ____=____)\n",
    "print(result)"
   ]
  },
  {
   "cell_type": "markdown",
   "metadata": {},
   "source": [
    "The next task is to write a function completly on your own. Write a function that calculates the average word length in a text."
   ]
  },
  {
   "cell_type": "code",
   "execution_count": null,
   "metadata": {},
   "outputs": [],
   "source": [
    "# Your implementation here"
   ]
  },
  {
   "cell_type": "code",
   "execution_count": null,
   "metadata": {},
   "outputs": [],
   "source": [
    "test_text = \"this is an example text for word counting . Counting words in a text is fun and useful!\"\n",
    "result = ____(test_text)\n",
    "print(result)"
   ]
  }
 ],
 "metadata": {
  "kernelspec": {
   "display_name": "Python 3",
   "language": "python",
   "name": "python3"
  },
  "language_info": {
   "name": "python",
   "version": "3.10.12"
  }
 },
 "nbformat": 4,
 "nbformat_minor": 2
}

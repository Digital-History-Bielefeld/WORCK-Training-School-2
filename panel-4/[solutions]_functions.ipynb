{
 "cells": [
  {
   "cell_type": "markdown",
   "metadata": {},
   "source": [
    "# Functions\n",
    "Fill `____` pieces of the code blocks. Happy coding."
   ]
  },
  {
   "cell_type": "markdown",
   "metadata": {},
   "source": [
    "## 1. Warm up\n",
    "Let's warm up with some basic functions."
   ]
  },
  {
   "cell_type": "markdown",
   "metadata": {},
   "source": [
    "The `introduce_yourself` function should print \"Hello my name is Patrick\". Feel free to replace the name with your own one. ;)"
   ]
  },
  {
   "cell_type": "code",
   "execution_count": 1,
   "metadata": {},
   "outputs": [
    {
     "name": "stdout",
     "output_type": "stream",
     "text": [
      "Hello my name is Patrick\n"
     ]
    }
   ],
   "source": [
    "def introduce_yourself():\n",
    "    print(\"Hello my name is Patrick\")\n",
    "\n",
    "introduce_yourself()"
   ]
  },
  {
   "cell_type": "markdown",
   "metadata": {},
   "source": [
    "Now a more generic version of this. The function `introduce_person` takes one parameter `name` and introduces this person."
   ]
  },
  {
   "cell_type": "code",
   "execution_count": 2,
   "metadata": {},
   "outputs": [],
   "source": [
    "def introduce_person(name):\n",
    "    print(\"Hello the persons name is \" + name + \".\")"
   ]
  },
  {
   "cell_type": "markdown",
   "metadata": {},
   "source": [
    "Call the function and introduce someone."
   ]
  },
  {
   "cell_type": "code",
   "execution_count": 3,
   "metadata": {},
   "outputs": [
    {
     "name": "stdout",
     "output_type": "stream",
     "text": [
      "Hello the persons name is Inga.\n"
     ]
    }
   ],
   "source": [
    "introduce_person(\"Inga\")"
   ]
  },
  {
   "cell_type": "markdown",
   "metadata": {},
   "source": [
    "## 2. Fun with functions\n",
    "\n",
    "Your next task is to write a function that returns the boolean value `True`, if a given number is even and `False` if not.<br>\n",
    "*Hint: To determin if a number is even, you can use the modulo operator: `4 % 2 == 0`*"
   ]
  },
  {
   "cell_type": "code",
   "execution_count": 4,
   "metadata": {},
   "outputs": [],
   "source": [
    "def is_even(number):\n",
    "    if number % 2 == 0:\n",
    "        return True\n",
    "    else:\n",
    "        return False\n",
    "\n",
    "# For the pros: can you write the same function with just two lines of code?\n",
    "def is_even(number):\n",
    "    return number % 2 == 0"
   ]
  },
  {
   "cell_type": "code",
   "execution_count": 5,
   "metadata": {},
   "outputs": [],
   "source": [
    "assert is_even(1) == False\n",
    "assert is_even(2) == True\n",
    "assert is_even(3) == False\n",
    "assert is_even(4) == True"
   ]
  },
  {
   "cell_type": "markdown",
   "metadata": {},
   "source": [
    "Use the `is_even` function here to print a message if the parameter `number` is even or odd.<br>\n",
    "*Hint: Read the code carefully*"
   ]
  },
  {
   "cell_type": "code",
   "execution_count": 6,
   "metadata": {},
   "outputs": [],
   "source": [
    "def conditional_print(number):\n",
    "    if not is_even(number):\n",
    "        print(\"The number is odd.\")\n",
    "    else:\n",
    "        print(\"The number is even.\")"
   ]
  },
  {
   "cell_type": "code",
   "execution_count": 8,
   "metadata": {},
   "outputs": [
    {
     "name": "stdout",
     "output_type": "stream",
     "text": [
      "The number is odd.\n",
      "The number is even.\n",
      "The number is odd.\n",
      "The number is even.\n"
     ]
    }
   ],
   "source": [
    "conditional_print(1)\n",
    "conditional_print(2)\n",
    "conditional_print(3)\n",
    "conditional_print(4)"
   ]
  },
  {
   "cell_type": "markdown",
   "metadata": {},
   "source": [
    "The next one is tricky. The function should return `True` if the parameter `year` is a leap year.<br>\n",
    "*Hint: Return True for each year that is a multiple of 4 (except for years evenly divisible by 100, but not by 400)*"
   ]
  },
  {
   "cell_type": "code",
   "execution_count": 9,
   "metadata": {},
   "outputs": [],
   "source": [
    "def is_leap_year(year):\n",
    "    if year % 400 == 0:\n",
    "        return True\n",
    "    if year % 100 == 0:\n",
    "        return False\n",
    "    if year % 4 == 0:\n",
    "        return True\n",
    "    return False"
   ]
  },
  {
   "cell_type": "code",
   "execution_count": 10,
   "metadata": {},
   "outputs": [],
   "source": [
    "assert is_leap_year(1700) == False\n",
    "assert is_leap_year(1800) == False\n",
    "assert is_leap_year(1900) == False\n",
    "assert is_leap_year(2000) == True\n",
    "assert is_leap_year(2004) == True"
   ]
  },
  {
   "cell_type": "markdown",
   "metadata": {},
   "source": [
    "## 3. Text processing\n",
    "\n",
    "Write a function that counts words in a text and returns a dictionary with the words as keys and the number of occurences as values."
   ]
  },
  {
   "cell_type": "code",
   "execution_count": 22,
   "metadata": {},
   "outputs": [],
   "source": [
    "def count_words(text):\n",
    "    # we split the text into words by splitting it at spaces\n",
    "    words = text.split(\" \")\n",
    "    # the words variable will now hold a list of words\n",
    "\n",
    "    count_dictionary = {}\n",
    "    for word in words:\n",
    "        if word in count_dictionary:\n",
    "            count_dictionary[word] += 1\n",
    "        else:\n",
    "            count_dictionary[word] = 1\n",
    "    return count_dictionary"
   ]
  },
  {
   "cell_type": "code",
   "execution_count": 23,
   "metadata": {},
   "outputs": [
    {
     "name": "stdout",
     "output_type": "stream",
     "text": [
      "{'this': 1, 'is': 2, 'an': 1, 'example': 1, 'text': 2, 'for': 1, 'word': 1, 'counting': 1, '.': 1, 'Counting': 1, 'words': 1, 'in': 1, 'a': 1, 'fun': 1, 'and': 1, 'useful!': 1}\n"
     ]
    }
   ],
   "source": [
    "test_text = \"this is an example text for word counting . Counting words in a text is fun and useful!\"\n",
    "result = count_words(test_text)\n",
    "print(result)"
   ]
  },
  {
   "cell_type": "markdown",
   "metadata": {},
   "source": [
    "Make the `count_words` function optionally case insensitive by using an optional parameter.<br>\n",
    "*Hint: Take a look at Python's `string.lower` function.*"
   ]
  },
  {
   "cell_type": "code",
   "execution_count": 24,
   "metadata": {},
   "outputs": [],
   "source": [
    "def count_words(text, ignore_case=False):\n",
    "    # we split the text into words by splitting it at spaces\n",
    "    words = text.split(\" \")\n",
    "    # the words variable will now hold a list of words\n",
    "    if ignore_case:\n",
    "        canonical_words = []\n",
    "        for word in words:\n",
    "            canonical_words.append(word.lower())\n",
    "    else:\n",
    "        canonical_words = words\n",
    "\n",
    "    count_dictionary = {}\n",
    "    for word in canonical_words:\n",
    "        if word in count_dictionary:\n",
    "            count_dictionary[word] += 1\n",
    "        else:\n",
    "            count_dictionary[word] = 1\n",
    "    return count_dictionary"
   ]
  },
  {
   "cell_type": "code",
   "execution_count": 25,
   "metadata": {},
   "outputs": [
    {
     "name": "stdout",
     "output_type": "stream",
     "text": [
      "{'this': 1, 'is': 2, 'an': 1, 'example': 1, 'text': 2, 'for': 1, 'word': 1, 'counting': 2, '.': 1, 'words': 1, 'in': 1, 'a': 1, 'fun': 1, 'and': 1, 'useful!': 1}\n"
     ]
    }
   ],
   "source": [
    "test_text = \"this is an example text for word counting . Counting words in a text is fun and useful!\"\n",
    "result = count_words(test_text, ignore_case=True)\n",
    "print(result)"
   ]
  },
  {
   "cell_type": "markdown",
   "metadata": {},
   "source": [
    "The next task is to write a function completly on your own. Write a function that calculates the average word length in a text."
   ]
  },
  {
   "cell_type": "code",
   "execution_count": 26,
   "metadata": {},
   "outputs": [],
   "source": [
    "def average_word_length(text):\n",
    "    words = text.split(\" \")\n",
    "    total_length = 0\n",
    "    num_words = len(words)\n",
    "    for word in words:\n",
    "        total_length += len(word)\n",
    "    return total_length / num_words"
   ]
  },
  {
   "cell_type": "code",
   "execution_count": 27,
   "metadata": {},
   "outputs": [
    {
     "name": "stdout",
     "output_type": "stream",
     "text": [
      "3.888888888888889\n"
     ]
    }
   ],
   "source": [
    "test_text = \"this is an example text for word counting . Counting words in a text is fun and useful!\"\n",
    "result = average_word_length(test_text)\n",
    "print(result)"
   ]
  }
 ],
 "metadata": {
  "kernelspec": {
   "display_name": "Python 3",
   "language": "python",
   "name": "python3"
  },
  "language_info": {
   "codemirror_mode": {
    "name": "ipython",
    "version": 3
   },
   "file_extension": ".py",
   "mimetype": "text/x-python",
   "name": "python",
   "nbconvert_exporter": "python",
   "pygments_lexer": "ipython3",
   "version": "3.10.13"
  }
 },
 "nbformat": 4,
 "nbformat_minor": 2
}

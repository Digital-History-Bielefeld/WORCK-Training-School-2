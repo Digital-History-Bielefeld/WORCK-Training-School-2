{
 "cells": [
  {
   "cell_type": "markdown",
   "metadata": {},
   "source": [
    "# Classes and Objects\n",
    "Fill `____` pieces of the code blocks. Happy coding."
   ]
  },
  {
   "cell_type": "code",
   "execution_count": null,
   "metadata": {},
   "outputs": [],
   "source": [
    "____ WorkshopParticipant:\n",
    "    def __init__(self, first_name, last_name):\n",
    "        self.first_name = ____\n",
    "        self.____ = last_name\n",
    "\n",
    "    def print_full_name(self):\n",
    "        print(self.first_name + \" \" + ____)"
   ]
  },
  {
   "cell_type": "code",
   "execution_count": null,
   "metadata": {},
   "outputs": [],
   "source": [
    "# Create a new instance of the WorkshopParticipant class\n",
    "participant = ____(\"John\", \"Doe\")\n",
    "\n",
    "# Print the full name of the participant using the appropriate method\n",
    "participant.____()  # John Doe"
   ]
  },
  {
   "cell_type": "markdown",
   "metadata": {},
   "source": [
    "Alter the `WorkshopParticipant` class in the cell above so that it includes two new attributes:\n",
    "- `lerning_capacity`: This should have an initial value of `100`\n",
    "- `knowledge_level`: This should have an initial value of `0`\n",
    "\n",
    "*Hint: Don't forget to re-run the cell after altering it*"
   ]
  },
  {
   "cell_type": "code",
   "execution_count": null,
   "metadata": {},
   "outputs": [],
   "source": [
    "# Create a new instance of the WorkshopParticipant class\n",
    "participant_2 = ____\n",
    "\n",
    "# Print the lerning_capacity of the participant\n",
    "print(____.____)\n",
    "\n",
    "# Print the knowledge_level of the participant\n",
    "____"
   ]
  },
  {
   "cell_type": "markdown",
   "metadata": {},
   "source": [
    "Add a method `lern_something` to the `WorkshopParticipant` class. This should lower the `lerning_capacity` by 20 and increase the `knowledge_level` by 10."
   ]
  },
  {
   "cell_type": "code",
   "execution_count": null,
   "metadata": {},
   "outputs": [],
   "source": [
    "participant_3 = WorkshopParticipant(\"Jane\", \"Doe\")\n",
    "participant_3.lern()\n",
    "participant_3.lern()\n",
    "participant_3.lern()\n",
    "participant_3.lern()\n",
    "participant_3.lern()\n",
    "participant_3.lern()\n",
    "\n",
    "# Print the knowledge_level of the participant\n",
    "____\n",
    "\n",
    "# Print the lerning_capacity of the participant\n",
    "____"
   ]
  },
  {
   "cell_type": "markdown",
   "metadata": {},
   "source": [
    "Add a method `sleep` to the `WorkshopParticipant` class. This should set the `lerning_capacity` back to `100`.<br>\n",
    "Modify the `lern` method so that it will print a message and return without changing anything if the `lerning_capacity` is below 20."
   ]
  },
  {
   "cell_type": "code",
   "execution_count": null,
   "metadata": {},
   "outputs": [],
   "source": [
    "one_more_participant = WorkshopParticipant(\"Alice\", \"Smith\")\n",
    "\n",
    "# Let the participant lern until it's knowledge_level reached 100\n",
    "# your code here\n",
    "\n",
    "# Print the lerning_capacity of the participant\n",
    "print(one_more_participant.lerning_capacity)\n",
    "\n",
    "# Print the knowledge_level of the participant\n",
    "print(one_more_participant.knowledge_level)"
   ]
  },
  {
   "cell_type": "markdown",
   "metadata": {},
   "source": [
    "## Your own class\n",
    "Use your imagination and feel free to to create your own class. Alternatively you can use the WorkshopParticipant class and implement more features."
   ]
  },
  {
   "cell_type": "code",
   "execution_count": null,
   "metadata": {},
   "outputs": [],
   "source": [
    "# Your code here"
   ]
  }
 ],
 "metadata": {
  "language_info": {
   "name": "python"
  }
 },
 "nbformat": 4,
 "nbformat_minor": 2
}

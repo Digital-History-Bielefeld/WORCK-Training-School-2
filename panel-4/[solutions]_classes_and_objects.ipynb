{
 "cells": [
  {
   "cell_type": "markdown",
   "metadata": {},
   "source": [
    "# Classes and Objects\n",
    "Fill `____` pieces of the code blocks. Happy coding."
   ]
  },
  {
   "cell_type": "code",
   "execution_count": 14,
   "metadata": {},
   "outputs": [],
   "source": [
    "class WorkshopParticipant:\n",
    "    def __init__(self, first_name, last_name):\n",
    "        self.first_name = first_name\n",
    "        self.last_name = last_name\n",
    "        self.lerning_capacity = 100\n",
    "        self.knowledge_level = 0\n",
    "\n",
    "    def print_full_name(self):\n",
    "        print(self.first_name + \" \" + self.last_name)\n",
    "\n",
    "    def lern(self):\n",
    "        if self.lerning_capacity < 20:\n",
    "            print(\"I can't lern any more today.\")\n",
    "            return\n",
    "        self.lerning_capacity -= 20\n",
    "        self.knowledge_level += 10\n",
    "\n",
    "    def sleep(self):\n",
    "        self.lerning_capacity = 100"
   ]
  },
  {
   "cell_type": "code",
   "execution_count": 2,
   "metadata": {},
   "outputs": [
    {
     "name": "stdout",
     "output_type": "stream",
     "text": [
      "John Doe\n"
     ]
    }
   ],
   "source": [
    "# Create a new instance of the WorkshopParticipant class\n",
    "participant = WorkshopParticipant(\"John\", \"Doe\")\n",
    "\n",
    "# Print the full name of the participant using the appropriate method\n",
    "participant.print_full_name()  # John Doe"
   ]
  },
  {
   "cell_type": "markdown",
   "metadata": {},
   "source": [
    "Alter the `WorkshopParticipant` class in the cell above so that it includes two new attributes:\n",
    "- `lerning_capacity`: This should have an initial value of `100`\n",
    "- `knowledge_level`: This should have an initial value of `0`\n",
    "\n",
    "*Hint: Don't forget to re-run the cell after altering it*"
   ]
  },
  {
   "cell_type": "code",
   "execution_count": 5,
   "metadata": {},
   "outputs": [
    {
     "name": "stdout",
     "output_type": "stream",
     "text": [
      "100\n",
      "0\n"
     ]
    }
   ],
   "source": [
    "# Create a new instance of the WorkshopParticipant class\n",
    "participant_2 = WorkshopParticipant(\"Some\", \"Name\")\n",
    "\n",
    "# Print the lerning_capacity of the participant\n",
    "print(participant_2.lerning_capacity)\n",
    "\n",
    "# Print the knowledge_level of the participant\n",
    "print(participant_2.knowledge_level)"
   ]
  },
  {
   "cell_type": "markdown",
   "metadata": {},
   "source": [
    "Add a method `lern` to the `WorkshopParticipant` class. This should lower the `lerning_capacity` by 20 and increase the `knowledge_level` by 10."
   ]
  },
  {
   "cell_type": "code",
   "execution_count": 15,
   "metadata": {},
   "outputs": [
    {
     "name": "stdout",
     "output_type": "stream",
     "text": [
      "I can't lern any more today.\n",
      "0\n",
      "50\n"
     ]
    }
   ],
   "source": [
    "participant_3 = WorkshopParticipant(\"Jane\", \"Doe\")\n",
    "participant_3.lern()\n",
    "participant_3.lern()\n",
    "participant_3.lern()\n",
    "participant_3.lern()\n",
    "participant_3.lern()\n",
    "participant_3.lern()\n",
    "\n",
    "# Print the lerning_capacity of the participant\n",
    "print(participant_3.lerning_capacity)\n",
    "\n",
    "# Print the knowledge_level of the participant\n",
    "print(participant_3.knowledge_level)"
   ]
  },
  {
   "cell_type": "markdown",
   "metadata": {},
   "source": [
    "Add a method `sleep` to the `WorkshopParticipant` class. This should set the `lerning_capacity` back to `100`.<br>\n",
    "Modify the `lern` method so that it will print a message and return without changing anything if the `lerning_capacity` is below 20."
   ]
  },
  {
   "cell_type": "code",
   "execution_count": 16,
   "metadata": {},
   "outputs": [
    {
     "name": "stdout",
     "output_type": "stream",
     "text": [
      "0\n",
      "100\n"
     ]
    }
   ],
   "source": [
    "one_more_participant = WorkshopParticipant(\"Alice\", \"Smith\")\n",
    "\n",
    "# Let the participant lern until it's knowledge_level reached 100\n",
    "one_more_participant.lern()\n",
    "one_more_participant.lern()\n",
    "one_more_participant.lern()\n",
    "one_more_participant.lern()\n",
    "one_more_participant.lern()\n",
    "\n",
    "one_more_participant.sleep()\n",
    "\n",
    "one_more_participant.lern()\n",
    "one_more_participant.lern()\n",
    "one_more_participant.lern()\n",
    "one_more_participant.lern()\n",
    "one_more_participant.lern()\n",
    "\n",
    "# Print the lerning_capacity of the participant\n",
    "print(one_more_participant.lerning_capacity)\n",
    "\n",
    "# Print the knowledge_level of the participant\n",
    "print(one_more_participant.knowledge_level)"
   ]
  },
  {
   "cell_type": "markdown",
   "metadata": {},
   "source": [
    "## Your own class\n",
    "Use your imagination and feel free to to create your own class. Alternatively you can use the WorkshopParticipant class and implement more features."
   ]
  },
  {
   "cell_type": "code",
   "execution_count": null,
   "metadata": {},
   "outputs": [],
   "source": [
    "# Your code here"
   ]
  }
 ],
 "metadata": {
  "kernelspec": {
   "display_name": "Python 3",
   "language": "python",
   "name": "python3"
  },
  "language_info": {
   "codemirror_mode": {
    "name": "ipython",
    "version": 3
   },
   "file_extension": ".py",
   "mimetype": "text/x-python",
   "name": "python",
   "nbconvert_exporter": "python",
   "pygments_lexer": "ipython3",
   "version": "3.10.13"
  }
 },
 "nbformat": 4,
 "nbformat_minor": 2
}

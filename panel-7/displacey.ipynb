{
 "cells": [
  {
   "cell_type": "markdown",
   "metadata": {
    "id": "HUYs2rv5iN9Y"
   },
   "source": [
    "# Visualization with displaCy\n",
    "\n",
    "At this point, you already know about tools to analyse historical texts with regard to their structure and semantics. It would be helpful if we could also visualise these results to make more sense of them at one glance.  That's where displaCy comes in - a tool in spaCy that makes language analysis visually intuitive.  It helps us 'see' the roles each word plays in a sentence, making it easier to understand the building blocks of language.\n",
    "\n",
    "In this tutorial, you'll learn how to use displaCy to visualize part-of-speech tagging."
   ]
  },
  {
   "cell_type": "markdown",
   "metadata": {},
   "source": [
    "### Before you get started ...\n",
    "\n",
    "Please run the code below. It will import some necessary libaries. This might take some time ;)"
   ]
  },
  {
   "cell_type": "code",
   "execution_count": null,
   "metadata": {},
   "outputs": [],
   "source": [
    "# install the libraries listed in thre requirements.txt file\n",
    "%pip install -r ../.devcontainer/python-3.12/requirements.txt --upgrade-strategy only-if-needed\n",
    "\n",
    "# install spacy model en_core_web_sm\n",
    "!python -m spacy download en_core_web_sm "
   ]
  },
  {
   "cell_type": "markdown",
   "metadata": {
    "id": "Pv53XYObdPtr"
   },
   "source": [
    "**Step 1: Importing spaCy and displaCy**\n",
    "\n",
    "First, we need to import spaCy and displaCy.\n",
    "\n",
    "Then we load a pre-trained spaCy language model for English. The string \"en_core_web_sm\" is the name of the model, in this case the small English model (sm stands for small).\n",
    "\n",
    "The returned result is assigned to a variable named nlp which we can use to build our spaCy pipeline.\n",
    "\n",
    "Run the code in the cell below:"
   ]
  },
  {
   "cell_type": "code",
   "execution_count": null,
   "metadata": {
    "id": "CSpIt_SqZPYc"
   },
   "outputs": [],
   "source": [
    "# import spaCy and displaCy libraries\n",
    "import spacy\n",
    "from spacy import displacy\n",
    "\n",
    "# Load English language model\n",
    "nlp = spacy.load(\"en_core_web_sm\")"
   ]
  },
  {
   "cell_type": "markdown",
   "metadata": {
    "id": "QM1gB6ENlgwM"
   },
   "source": [
    "**Step 2: Applying spaCy's processing pipeline to the input**\n",
    "\n",
    "In order for displaCy to be able to process our input, we need to convert it into a format it can handle. Luckily, spaCy offers an easy way to convert your input into a format suitable for NLP tasks: When you call `nlp(text)` on a given input text, spaCy processes the input text and creates a `doc` object that contains the analyzed information. You can then access various attributes and methods of the `doc` object to obtain information about tokens, entities, part-of-speech tags, and more.\n",
    "\n",
    "We will use the following sentence as input:\n",
    "\n",
    "\"I've been 2 times to New York in 2011, but did not have the constitution for it. It DIDN 'T appeal to me. I preferred Los Angeles.\"\n",
    "\n",
    "Follow the instructions below to prepare the input text for displaCy, then run your code:"
   ]
  },
  {
   "cell_type": "code",
   "execution_count": null,
   "metadata": {
    "id": "FhTlre6DeOP7"
   },
   "outputs": [],
   "source": [
    "# TODO: Save the text into a variable called input\n",
    "\n",
    "\n",
    "# TODO: Pass the input variable as an input parameter to the nlp pipeline and save it in a variable called doc\n"
   ]
  },
  {
   "cell_type": "markdown",
   "metadata": {
    "id": "8C_eguslcLfb"
   },
   "source": [
    "**Step 3: Visualising dependencies**\n",
    "\n",
    "Visualizing dependencies in a sentence provides a clear and intuitive way to analyze its building blocks, allowing you to see the relationships between words and understand how they work together grammatically.\n",
    "\n",
    "You can use displacy's `render()` function to display your results as a dependency parse tree. The function offers several options to customise the look of your dependency parse tree, but all it really needs to work is the `doc` input and the `style` parameter. Try it out below:"
   ]
  },
  {
   "cell_type": "code",
   "execution_count": null,
   "metadata": {
    "colab": {
     "base_uri": "https://localhost:8080/",
     "height": 598
    },
    "executionInfo": {
     "elapsed": 339,
     "status": "ok",
     "timestamp": 1707220200060,
     "user": {
      "displayName": "Dana Meyer",
      "userId": "07634428609531147649"
     },
     "user_tz": -60
    },
    "id": "sW-DnpgjdH8p",
    "outputId": "017a7b44-0d7e-43b1-b58f-66055051a6c6"
   },
   "outputs": [],
   "source": [
    "# optional: set to true here because you run the code in a Jupyter notebook\n",
    "jupyter_mode = True\n",
    "\n",
    "# optional: set the distance between tokens in the visualization\n",
    "render_options = {'distance': 140}\n",
    "\n",
    "# TODO: Set the visuation style to \"dep\" to show the dependencies in the sentence\n",
    "\n",
    "\n",
    "# Render and display the visualization\n",
    "displacy.render(doc, jupyter=jupyter_mode, options=render_options, style=visualization_style)"
   ]
  },
  {
   "cell_type": "markdown",
   "metadata": {
    "id": "Ck8L0n3Umk_x"
   },
   "source": [
    "**Step 4: Visualising named entities**\n",
    "\n",
    "Finding named entities in a text is crucial for quickly identifying and extracting key information such as names of people, locations, dates, and organizations.\n",
    "\n",
    "DisplaCy's entity visualizer highlights named entities and their labels.\n",
    "\n",
    "You use the entity visualiser in the exact same way as the dependency visualiser above. There is only one small difference - the `style` attribute of the `render()` function is set to the keyword `ent`. With this information, you can visualise the named entities present in our text input:"
   ]
  },
  {
   "cell_type": "code",
   "execution_count": null,
   "metadata": {
    "colab": {
     "base_uri": "https://localhost:8080/",
     "height": 52
    },
    "executionInfo": {
     "elapsed": 19,
     "status": "ok",
     "timestamp": 1707220153677,
     "user": {
      "displayName": "Dana Meyer",
      "userId": "07634428609531147649"
     },
     "user_tz": -60
    },
    "id": "dWePgdv3fiVy",
    "outputId": "3c93be00-5f88-4f6f-8990-3c8432ed6c8c"
   },
   "outputs": [],
   "source": [
    "# TODO: apply the displacy render() function to the doc object with the jupyter parameter set to True and the style parameter set to 'ent'\n"
   ]
  },
  {
   "cell_type": "markdown",
   "metadata": {
    "id": "FZhsjU7fhjrB"
   },
   "source": [
    "**Optional Challenge: Finetuning your visualisation results**\n",
    "\n",
    "If you are only interested in certain entities, you can define a list of these entities and pass them to the `render()` function in the options attribute. You simply make a list of strings called options in which you list these entities of your choice (i.e. `'GPE'` and `'DATE'`). The only thing you still have to do below is to call displaCy's `render()` function with the `options` parameter and the appropriate `style` parameter for entity visualisation you already used above:\n"
   ]
  },
  {
   "cell_type": "code",
   "execution_count": null,
   "metadata": {
    "colab": {
     "base_uri": "https://localhost:8080/",
     "height": 52
    },
    "executionInfo": {
     "elapsed": 281,
     "status": "ok",
     "timestamp": 1707175053280,
     "user": {
      "displayName": "Dana Meyer",
      "userId": "07634428609531147649"
     },
     "user_tz": -60
    },
    "id": "JWwSJ7Rejp2Z",
    "outputId": "1cd76187-290d-444d-d843-6c82948bcb5d"
   },
   "outputs": [],
   "source": [
    "# Pass entities in list\n",
    "options = {'ents': ['GPE', 'DATE']}\n",
    "\n",
    "# TODO: call render() function for visualising entities with jupyter parameter set to True and options parameter set to options\n"
   ]
  },
  {
   "cell_type": "markdown",
   "metadata": {
    "id": "7y5Lgg49k7EQ"
   },
   "source": [
    "Maybe you also want to choose the colors for your visualisation. You can tell displaCy which colors to use for which entity. Specify the color of your entities by assigning a hexadecimal color code to them (i.e. `'#FF5733'` and `'#33FF57'`). Below, you only have to call displaCy's `render()` function with the `options` parameter and the `style` parameter for entity visualisation you already used above. You can of course also experiment at bit more with the colors:"
   ]
  },
  {
   "cell_type": "code",
   "execution_count": null,
   "metadata": {
    "colab": {
     "base_uri": "https://localhost:8080/",
     "height": 52
    },
    "executionInfo": {
     "elapsed": 331,
     "status": "ok",
     "timestamp": 1707220898742,
     "user": {
      "displayName": "Dana Meyer",
      "userId": "07634428609531147649"
     },
     "user_tz": -60
    },
    "id": "1JClFUyDloge",
    "outputId": "33640d72-b168-4e5a-86a0-5210fe90805e"
   },
   "outputs": [],
   "source": [
    "# Define a list with the entities you want to visualise as string values\n",
    "entities = [\"GPE\", \"DATE\"]\n",
    "\n",
    "# Define a dictionary with your entities as keys in the string type and their hexadecimal color values as values in the string type\n",
    "custom_colors = {\"GPE\": \"#FF5733\", \"DATE\": \"#33FF57\"}\n",
    "\n",
    "# Set rendering options with custom colors\n",
    "options = {\"ents\": entities, \"colors\": custom_colors}\n",
    "\n",
    "# Visualize named entities passing the doc object as well as the style, jupyter and options parameters\n",
    "displacy.render(doc, style=\"ent\", jupyter=True, options=options)"
   ]
  }
 ],
 "metadata": {
  "colab": {
   "authorship_tag": "ABX9TyPEyJ7f545ncmmeJwgmlKPq",
   "provenance": []
  },
  "kernelspec": {
   "display_name": "Python 3 (ipykernel)",
   "language": "python",
   "name": "python3"
  },
  "language_info": {
   "codemirror_mode": {
    "name": "ipython",
    "version": 3
   },
   "file_extension": ".py",
   "mimetype": "text/x-python",
   "name": "python",
   "nbconvert_exporter": "python",
   "pygments_lexer": "ipython3",
   "version": "3.9.13"
  }
 },
 "nbformat": 4,
 "nbformat_minor": 1
}

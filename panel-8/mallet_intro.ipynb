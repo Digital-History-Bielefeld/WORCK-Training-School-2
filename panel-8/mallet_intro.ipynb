{
 "cells": [
  {
   "cell_type": "markdown",
   "metadata": {
    "id": "t3oePO660L5E"
   },
   "source": [
    "# Using MALLET for Topic Modelling: An Introduction\n",
    "\n",
    "MALLET (Machine Learning for Language Toolkit) is a Java-based toolkit for natural language processing, including document classification, clustering and topic modeling. It is a pure commandline tool, so it does not offer a graphical user interface (GUI) but has to be run from your terminal.\n",
    "\n",
    "In this tutorial, you will learn when and how to use MALLET for topic modelling."
   ]
  },
  {
   "cell_type": "markdown",
   "metadata": {
    "id": "Djj3RLPw3fBS"
   },
   "source": [
    "## Why use MALLET for topic modelling?\n",
    "\n",
    "Imagine that you are interested in finding out which topics are covered in a larger corpus of texts. Reading all of it to extract the most relevant topics would take ages. It would also confront you with another question which might be difficult to answer before you have at least scanned the material: How many topics should you extract?\n",
    "If you are working with a small number of files (or even a single document), you could of course perform a word-frequency analysis on the document and try to gauge the most important topics simply by looking at the results. But this approach will become less feasible for large corpora. This is where MALLET comes in: It assigns the words in a text to the most likely topics.\n",
    "\n",
    "Let's go through this step-by-step and see how it works!"
   ]
  },
  {
   "cell_type": "markdown",
   "metadata": {
    "id": "D7W28ZOvIvTn"
   },
   "source": [
    "**Step 1: Installing MALLET**\n",
    "\n",
    "Since MALLET is a commandline tool, we have to open a terminal in our codespace to install and run the application. In your VS Code editor, open a terminal and type `cd panel-8` to navigate to the `panel-8` folder, then type `ls` to display its contents. You will see that it contains a shell script called `setup_mallet.sh` containing all the commands needed to install mallet in your codespace. Let's execute the script! In your terminal, type `./setup_mallet.sh` to run the script. Congrats - you have now installed MALLET :)"
   ]
  },
  {
   "cell_type": "markdown",
   "metadata": {
    "id": "-lqWCDplAII7"
   },
   "source": [
    "**Step 2: Choose a text to analyse**\n",
    "\n",
    "For MALLET to be able to process your texts, they should be in `.txt` format. MALLET comes with a wide range of test files which are already in the right format and which you can use in this tutorial. Just have a look: In your terminal or your file explorer (on the left), navigate to the location `mallet-2.0.8/sample-data`:\n",
    "\n",
    "![Accessing MALLET's sample data](data/mallet_sample_data.png)\n",
    "\n",
    "Alternatively, you can of course also upload texts of your own you would like to analyse. If your texts are not in `.txt` format, you can open them in a text editor of your choice (i.e. Notepad or Word) and save them with the `.txt` extension.\n",
    "\n",
    "For the tutorial, we will use the files in `/sample_data/web/en`.\n",
    "Let's look at the files with the help of the explorer! As you can see, there are several `.txt` files and all of them consist of a single line of text:\n",
    "\n",
    "![Accessing sample texts](data/mallet_sample_text.png)"
   ]
  },
  {
   "cell_type": "markdown",
   "metadata": {
    "id": "ybjjXa0r6Mlq"
   },
   "source": [
    "**Step 3: Navigate to the mallet folder**\n",
    "\n",
    "For the rest of the tutorial, we will be executing all our commands in the terminal from the location `/workspaces/WORCK-DH-Winter-School-2024/panel-8/mallet-2.0.8`. The easiest way for you to get there in your codespace is to use the file explorer on the left: Open the folder `panel-8` and right click on `mallet-2.0.8`, then in the window that opens choose `Open in Integrated Terminal`:\n",
    "\n",
    "![Open terminal in right location](data/mallet_open_terminal.png)\n",
    "\n",
    "\n",
    "You can of course also execute the following commands from a different location, just be aware that you would have to adjust the paths then."
   ]
  },
  {
   "cell_type": "markdown",
   "metadata": {
    "id": "baBOmCw5Kt0h"
   },
   "source": [
    "**Step 4: Convert your text to a format readable by MALLET**\n",
    "\n",
    "Now that we have our data, we have to pass it over to MALLET to use it as input for topic modelling. In order to perform topic modelling, MALLET first needs to transform your text into still another format, a `.mallet` file. This file format is designed to represent the input data in a way that MALLET can process efficiently.\n",
    "\n",
    "Let's tell MALLET to output the right data format!\n",
    "\n",
    "Right click on the `panel-8` folder in your explorer and choose `New Folder`:\n",
    "\n",
    "![Create output folder](data/mallet_create_output_folder.png)\n",
    "\n",
    "Call the new folder `output`.\n",
    "\n",
    "Then, in your terminal, type:\n",
    "\n",
    "*   `bin/mallet import-dir --input sample-data/web/en --output ../output/corpus.mallet --keep-sequence --remove-stopwords`\n",
    "\n",
    "Let's break down this code step-by-step:\n",
    "\n",
    "* `bin/mallet`: This is the path to the Mallet tool executable. The bin directory typically contains executable files, and mallet is the Mallet command-line tool for topic modeling.\n",
    "\n",
    "* `import-dir`: import a batch of files from a directory\n",
    "\n",
    "* `--input sample-data/web/en`: Specifies the input file for the topic modeling process.\n",
    "\n",
    "* `--output ../output/corpus.mallet`: Specifies the output file where the Mallet tool will store the processed data.\n",
    "\n",
    "* `--keep-sequence`: This option instructs Mallet to preserve the order of words in the document. It's useful when the order of words matters, such as in the case of natural language text.\n",
    "\n",
    "* `--remove-stopwords`: This option instructs Mallet to remove common stop words from the text data.\n",
    "\n",
    "\n",
    "Now look into your `output` folder. Next to it, you should see the `.mallet` file you just created:\n",
    "\n",
    "![.mallet file](data/mallet_mallet_format.png)\n",
    "\n",
    "Your editor cannot read the content of the file, so you can't view it, but MALLET can now process it for us."
   ]
  },
  {
   "cell_type": "markdown",
   "metadata": {
    "id": "q0UZ4AHoNto5"
   },
   "source": [
    "**Step 5: Use MALLET to extract topics**\n",
    "\n",
    "We're now going to tell MALLET to perform topic modelling. In your terminal, type:\n",
    "\n",
    "`bin/mallet train-topics --input ../output/corpus.mallet`\n",
    "\n",
    "Let's break down the code step-by-step:\n",
    "\n",
    "* `bin/mallet`: This is the path to the Mallet tool executable\n",
    "\n",
    "* `train-topics`: This is the specific command within Mallet used for training topic models. It takes a Mallet-formatted input file, such as the one generated in the previous step (output/gunnhild.mallet), and trains a topic model on that data.\n",
    "\n",
    "* `--input ../output/corpus.mallet`: Specifies the input file for the topic modeling training process.\n",
    "\n",
    "MALLET now runs through your text multiple times to find the best division of words into topics. While it is doing this, your terminal window will fill with output from each run. When it is done, you can scroll up to see the created output. For each run, MALLET has printed out the key words: These are the words that define a statistically significant topic according to MALLET's analysis:\n",
    "\n",
    "![Mallet train topics](data/mallet_train_topics.png)\n",
    "\n",
    "In case you want to limit the number of topics MALLET outputs to a specific number, you can set the `num-topics` flag (i.e. to 7 topics) like this:\n",
    "\n",
    "`bin/mallet train-topics --input ../output/corpus.mallet --num-topics 7`\n",
    "\n",
    "Try it out!\n",
    "\n",
    "Another option you should include is the `--optimize-interval` parameter since this will give you an idea about the weight of the topic. The command would look like this then:\n",
    "\n",
    "`bin/mallet train-topics --input ../output/corpus.mallet --num-topics 7 --optimize-interval 7`\n",
    "\n",
    "Try that out too!"
   ]
  },
  {
   "cell_type": "markdown",
   "metadata": {
    "id": "ydzdQtXkRVXS"
   },
   "source": [
    "**Step 6: Save the output in a file**\n",
    "\n",
    "You can already see your results in the terminal, but wouldn't it be convenient to be able to save your results in a file so you are able to take a look at them later and share them? We can tell MALLET to do exactly that.\n",
    "\n",
    "In your terminal, type:\n",
    "\n",
    "`bin\\mallet train-topics  --input ../output/corpus.mallet --output-state ../output/topic-state.gz --output-topic-keys output/corpus_keys.txt --output-doc-topics output/corpus_compostion.txt --optimize-interval 10`\n",
    "\n",
    "Let's go through step-by-step:\n",
    "\n",
    "* `bin\\mallet train-topics`: Executes the train-topics command from the Mallet toolkit.\n",
    "\n",
    "* `--input ../output/corpus.mallet`: Specifies the input file containing the preprocessed corpus data (assuming it's in the output directory).\n",
    "\n",
    "* `--output-state ../output/topic-state.gz`: Specifies the location and filename for the output state file (topic assignments for each instance).\n",
    "\n",
    "* `--output-topic-keys ../output/corpus_keys.txt`:\n",
    "Specifies the location and filename for the output file containing the topic keys.\n",
    "\n",
    "* `--output-doc-topics ../output/corpus_composition.txt`:\n",
    "Specifies the location and filename for the output file containing document-topic distributions.\n",
    "\n",
    "The files should now appear in your `output` folder next to `corpus.mallet`:\n",
    "\n",
    "![Mallet output](data/mallet_output.png)"
   ]
  },
  {
   "cell_type": "markdown",
   "metadata": {
    "id": "yr0hIUUgY46e"
   },
   "source": [
    "**Step 7: Look at the output**\n",
    "\n",
    "Now we can use the file explorer to navigate to our `output` folder and open `corpus_keys.txt` to look at the result:\n",
    "\n",
    "![Corpus Keys Output](data/mallet_corpus_keys_output.png)\n",
    "\n",
    "After opening the file, you will see multiple paragraphs. The number at the beginning of each paragraph is the topic index. We begin counting at 0: The first paragraph is topic 0, the second paragraph is topic 1, ... . The second number in each paragraph is the Dirichlet parameter for the topic. It gives you an idea of the weight of a given topic. The words you see in each paragraph are the words which MALLET found to best describe a given topic."
   ]
  },
  {
   "cell_type": "markdown",
   "metadata": {
    "id": "O5QQMkDh4nX-"
   },
   "source": [
    "**Step 8: Fine-tune your output**\n",
    "\n",
    "MALLET offers a wide range of parameters you can set to improve the quality of your output according to your needs. So far, we have only used some of them like `keep-sequence` and `remove-stopwords`. If you want to find out which other parameters you can adjust, you can type:\n",
    "\n",
    "`bin\\mallet import-dir --help`:\n",
    "\n",
    "![Import-Dir --help](data/mallet_import_dir_help.png)\n",
    "\n",
    "This command will provide a list of the parameters you can set when you want to perform topic modelling for a batch of files (as we did above). If you want to pass your own unique list of stop words to MALLET which are appropriate for a certain time period, for example, this option might be interesting to you:\n",
    "\n",
    "`--stoplist-file FILE\n",
    "  Instead of the default list, read stop words from a file, one per line. Implies --remove-stopwords\n",
    "  Default is null`\n",
    "\n",
    "Or maybe you want to take into account n-grams of a certain size. You can specify this here:\n",
    "\n",
    "`--gram-sizes INTEGER,[INTEGER,...]\n",
    "  Include among the features all n-grams of sizes specified.  For example, to get all unigrams and bigrams, use --gram-sizes 1,2.  This option occurs after the removal of stop words, if removed.`\n",
    "\n",
    "Just play around with some of the options!"
   ]
  }
 ],
 "metadata": {
  "colab": {
   "authorship_tag": "ABX9TyP6SlAkX45lX6JVfEhf+1hO",
   "provenance": []
  },
  "kernelspec": {
   "display_name": "Python 3 (ipykernel)",
   "language": "python",
   "name": "python3"
  },
  "language_info": {
   "codemirror_mode": {
    "name": "ipython",
    "version": 3
   },
   "file_extension": ".py",
   "mimetype": "text/x-python",
   "name": "python",
   "nbconvert_exporter": "python",
   "pygments_lexer": "ipython3",
   "version": "3.9.13"
  }
 },
 "nbformat": 4,
 "nbformat_minor": 1
}

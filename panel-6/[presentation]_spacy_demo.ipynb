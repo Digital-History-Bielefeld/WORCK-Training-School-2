{
 "cells": [
  {
   "cell_type": "code",
   "execution_count": null,
   "id": "96ee1694-7a14-4668-b2ae-d7aa96e0a8a4",
   "metadata": {},
   "outputs": [],
   "source": [
    "!python -m spacy download en_core_web_sm"
   ]
  },
  {
   "cell_type": "code",
   "execution_count": null,
   "id": "83c29da6-dd28-44c8-9748-548713359140",
   "metadata": {},
   "outputs": [],
   "source": [
    "import spacy\n",
    "import en_core_web_md\n",
    "\n",
    "nlp = en_core_web_md.load()"
   ]
  },
  {
   "cell_type": "code",
   "execution_count": null,
   "id": "3fb26627-0a8c-4611-b9e2-0097b254e9d2",
   "metadata": {},
   "outputs": [],
   "source": [
    "text = '''Valentine's Day, also called Saint Valentine's Day or the Feast of Saint Valentine, is celebrated annually on February 14.'''"
   ]
  },
  {
   "cell_type": "code",
   "execution_count": null,
   "id": "99c90558-96a2-477e-9b19-430f75d4761b",
   "metadata": {},
   "outputs": [],
   "source": [
    "text"
   ]
  },
  {
   "cell_type": "code",
   "execution_count": null,
   "id": "21dc9802-81ab-4bee-af67-5c406920c30f",
   "metadata": {},
   "outputs": [],
   "source": [
    "doc = nlp(text)"
   ]
  },
  {
   "cell_type": "code",
   "execution_count": null,
   "id": "cafd2f93-62cd-45f9-9d36-e5050160ed69",
   "metadata": {},
   "outputs": [],
   "source": [
    "doc"
   ]
  },
  {
   "cell_type": "code",
   "execution_count": null,
   "id": "8ad490a2-f5c5-4e14-b8ba-93b892f3d1ef",
   "metadata": {},
   "outputs": [],
   "source": [
    "doc.ents"
   ]
  },
  {
   "cell_type": "code",
   "execution_count": null,
   "id": "95ffbfd5-52d6-4cc3-b462-35b6557c0abd",
   "metadata": {},
   "outputs": [],
   "source": [
    "doc.lang_"
   ]
  },
  {
   "cell_type": "code",
   "execution_count": null,
   "id": "6e6ded17-d551-480c-af05-989839d4e8a3",
   "metadata": {},
   "outputs": [],
   "source": [
    "[w for w in doc if not w.is_stop and not w.is_punct]"
   ]
  },
  {
   "cell_type": "code",
   "execution_count": null,
   "id": "84d5be4b-bbfb-4477-8903-4fbe3c79b9dc",
   "metadata": {},
   "outputs": [],
   "source": [
    "doc[0]"
   ]
  },
  {
   "cell_type": "code",
   "execution_count": null,
   "id": "d1e44658-be8f-4f0e-ad70-926f9f0d9aa0",
   "metadata": {},
   "outputs": [],
   "source": []
  }
 ],
 "metadata": {
  "kernelspec": {
   "display_name": "Python [conda env:datascience] *",
   "language": "python",
   "name": "conda-env-datascience-py"
  },
  "language_info": {
   "codemirror_mode": {
    "name": "ipython",
    "version": 3
   },
   "file_extension": ".py",
   "mimetype": "text/x-python",
   "name": "python",
   "nbconvert_exporter": "python",
   "pygments_lexer": "ipython3",
   "version": "3.10.13"
  }
 },
 "nbformat": 4,
 "nbformat_minor": 5
}

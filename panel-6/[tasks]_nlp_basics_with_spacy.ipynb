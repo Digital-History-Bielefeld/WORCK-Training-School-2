{
 "cells": [
  {
   "cell_type": "markdown",
   "metadata": {},
   "source": [
    "### Exercise Part-of-Speech\n",
    "\n",
    "Repeat the above exercise with another language.\n",
    "* download a model of your language\n",
    "* create *doc* of any sentence\n",
    "* print the results\n",
    "\n",
    "#### Tools\n",
    "Native Python + SpaCy\n",
    "\n",
    "#### Models\n",
    "https://spacy.io/models\n",
    "\n",
    "#### Documentation\n",
    "https://spacy.io/api/token#attributes"
   ]
  },
  {
   "cell_type": "code",
   "execution_count": null,
   "metadata": {},
   "outputs": [],
   "source": [
    "# Install spacy\n",
    "%pip install spacy"
   ]
  },
  {
   "cell_type": "code",
   "execution_count": null,
   "metadata": {},
   "outputs": [],
   "source": [
    "# download the model you've chosen\n",
    "!python -m spacy download ___"
   ]
  },
  {
   "cell_type": "code",
   "execution_count": null,
   "metadata": {},
   "outputs": [],
   "source": [
    "# import the model and load it into the variable 'nlp'\n",
    "import ___\n",
    "\n",
    "nlp = ___"
   ]
  },
  {
   "cell_type": "code",
   "execution_count": null,
   "metadata": {},
   "outputs": [],
   "source": [
    "# create a new document and store it in the variable 'doc'\n",
    "# process the text with the 'nlp' model\n",
    "doc = ___\n",
    "\n",
    "# obtain the different components of 'doc'\n",
    "for token in doc:\n",
    "    print(\n",
    "        token.text,\n",
    "        token.lemma_,\n",
    "        token.pos_,\n",
    "        token.tag_,\n",
    "        token.dep_,\n",
    "        token.shape_,\n",
    "        token.is_alpha,\n",
    "        token.is_stop\n",
    "    )"
   ]
  },
  {
   "cell_type": "markdown",
   "metadata": {},
   "source": [
    "### Exercise NER\n",
    "\n",
    "Repeat the above exercise with a language model of your choice.\n",
    "If you want to take the same as you took in the PoS exercise then you can directly\n",
    "import the model you downloaded.\n",
    "\n",
    "#### Tools\n",
    "Native Python + SpaCy\n",
    "\n",
    "#### Models\n",
    "https://spacy.io/models\n",
    "\n",
    "#### Documentation\n",
    "https://spacy.io/api/annotation#named-entities"
   ]
  },
  {
   "cell_type": "code",
   "execution_count": null,
   "metadata": {},
   "outputs": [],
   "source": [
    "\n",
    "# if you need another model, uncomment the following lines\n",
    "# to download and import it\n",
    "\n",
    "# !python -m spacy download ___\n",
    "# import ___"
   ]
  },
  {
   "cell_type": "code",
   "execution_count": null,
   "metadata": {},
   "outputs": [],
   "source": [
    "# load it into the variable 'nlp'\n",
    "nlp = ___"
   ]
  },
  {
   "cell_type": "code",
   "execution_count": null,
   "metadata": {},
   "outputs": [],
   "source": [
    "# create a new document and store it in the variable 'doc'\n",
    "# process the text with the 'nlp' model\n",
    "doc = ___\n",
    "\n",
    "# obtain different NER components for the document\n",
    "for ent in doc.ents:\n",
    "    print(\n",
    "        ent.text,\n",
    "        ent.start_char,\n",
    "        ent.end_char,\n",
    "        ent.label_\n",
    "    )"
   ]
  },
  {
   "cell_type": "code",
   "execution_count": null,
   "metadata": {},
   "outputs": [],
   "source": [
    "# render the dependencies\n",
    "displacy.render(doc, style=\"ent\")"
   ]
  }
 ],
 "metadata": {
  "kernelspec": {
   "display_name": "Python 3",
   "language": "python",
   "name": "python3"
  },
  "language_info": {
   "codemirror_mode": {
    "name": "ipython",
    "version": 3
   },
   "file_extension": ".py",
   "mimetype": "text/x-python",
   "name": "python",
   "nbconvert_exporter": "python",
   "pygments_lexer": "ipython3",
   "version": "3.10.13"
  },
  "vscode": {
   "interpreter": {
    "hash": "b0fa6594d8f4cbf19f97940f81e996739fb7646882a419484c72d19e05852a7e"
   }
  }
 },
 "nbformat": 4,
 "nbformat_minor": 4
}
